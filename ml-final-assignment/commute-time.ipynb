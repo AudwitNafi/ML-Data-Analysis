{
 "cells": [
  {
   "cell_type": "code",
   "execution_count": 1,
   "metadata": {},
   "outputs": [],
   "source": [
    "import numpy as np\n",
    "import pandas as pd\n",
    "import matplotlib.pyplot as plt\n",
    "import seaborn as sns"
   ]
  },
  {
   "cell_type": "code",
   "execution_count": 2,
   "metadata": {},
   "outputs": [],
   "source": [
    "df = pd.read_csv('./datasets/commute-time (combined).csv')"
   ]
  },
  {
   "cell_type": "code",
   "execution_count": 3,
   "metadata": {},
   "outputs": [
    {
     "data": {
      "text/plain": [
       "(1107, 9)"
      ]
     },
     "execution_count": 3,
     "metadata": {},
     "output_type": "execute_result"
    }
   ],
   "source": [
    "df.shape"
   ]
  },
  {
   "cell_type": "code",
   "execution_count": 4,
   "metadata": {},
   "outputs": [
    {
     "data": {
      "text/html": [
       "<div>\n",
       "<style scoped>\n",
       "    .dataframe tbody tr th:only-of-type {\n",
       "        vertical-align: middle;\n",
       "    }\n",
       "\n",
       "    .dataframe tbody tr th {\n",
       "        vertical-align: top;\n",
       "    }\n",
       "\n",
       "    .dataframe thead th {\n",
       "        text-align: right;\n",
       "    }\n",
       "</style>\n",
       "<table border=\"1\" class=\"dataframe\">\n",
       "  <thead>\n",
       "    <tr style=\"text-align: right;\">\n",
       "      <th></th>\n",
       "      <th>Timestamp</th>\n",
       "      <th>Age</th>\n",
       "      <th>Gender</th>\n",
       "      <th>Major</th>\n",
       "      <th>Distance</th>\n",
       "      <th>Mode</th>\n",
       "      <th>Traffic</th>\n",
       "      <th>Time</th>\n",
       "      <th>Column 1</th>\n",
       "    </tr>\n",
       "  </thead>\n",
       "  <tbody>\n",
       "    <tr>\n",
       "      <th>0</th>\n",
       "      <td>12/13/2024 14:11:16</td>\n",
       "      <td>25</td>\n",
       "      <td>Male</td>\n",
       "      <td>CSE</td>\n",
       "      <td>11.0</td>\n",
       "      <td>Bus</td>\n",
       "      <td>High</td>\n",
       "      <td>200.0</td>\n",
       "      <td>NaN</td>\n",
       "    </tr>\n",
       "    <tr>\n",
       "      <th>1</th>\n",
       "      <td>12/13/2024 14:23:25</td>\n",
       "      <td>25</td>\n",
       "      <td>Male</td>\n",
       "      <td>CSE</td>\n",
       "      <td>2.0</td>\n",
       "      <td>Walk</td>\n",
       "      <td>Low</td>\n",
       "      <td>20.0</td>\n",
       "      <td>NaN</td>\n",
       "    </tr>\n",
       "    <tr>\n",
       "      <th>2</th>\n",
       "      <td>12/13/2024 14:24:31</td>\n",
       "      <td>25</td>\n",
       "      <td>Male</td>\n",
       "      <td>CSE</td>\n",
       "      <td>4.0</td>\n",
       "      <td>Bus</td>\n",
       "      <td>Medium</td>\n",
       "      <td>120.0</td>\n",
       "      <td>NaN</td>\n",
       "    </tr>\n",
       "    <tr>\n",
       "      <th>3</th>\n",
       "      <td>12/13/2024 14:26:48</td>\n",
       "      <td>24</td>\n",
       "      <td>Female</td>\n",
       "      <td>CSE</td>\n",
       "      <td>4.3</td>\n",
       "      <td>Bus</td>\n",
       "      <td>High</td>\n",
       "      <td>120.0</td>\n",
       "      <td>NaN</td>\n",
       "    </tr>\n",
       "    <tr>\n",
       "      <th>4</th>\n",
       "      <td>12/13/2024 14:27:28</td>\n",
       "      <td>25</td>\n",
       "      <td>Male</td>\n",
       "      <td>CSE</td>\n",
       "      <td>6.0</td>\n",
       "      <td>Bus</td>\n",
       "      <td>Medium</td>\n",
       "      <td>65.0</td>\n",
       "      <td>NaN</td>\n",
       "    </tr>\n",
       "  </tbody>\n",
       "</table>\n",
       "</div>"
      ],
      "text/plain": [
       "             Timestamp  Age  Gender Major  Distance  Mode Traffic   Time  \\\n",
       "0  12/13/2024 14:11:16   25    Male   CSE      11.0   Bus    High  200.0   \n",
       "1  12/13/2024 14:23:25   25    Male   CSE       2.0  Walk     Low   20.0   \n",
       "2  12/13/2024 14:24:31   25    Male   CSE       4.0   Bus  Medium  120.0   \n",
       "3  12/13/2024 14:26:48   24  Female   CSE       4.3   Bus    High  120.0   \n",
       "4  12/13/2024 14:27:28   25    Male   CSE       6.0   Bus  Medium   65.0   \n",
       "\n",
       "  Column 1  \n",
       "0      NaN  \n",
       "1      NaN  \n",
       "2      NaN  \n",
       "3      NaN  \n",
       "4      NaN  "
      ]
     },
     "execution_count": 4,
     "metadata": {},
     "output_type": "execute_result"
    }
   ],
   "source": [
    "df.head()"
   ]
  },
  {
   "cell_type": "code",
   "execution_count": 5,
   "metadata": {},
   "outputs": [],
   "source": [
    "df.drop('Timestamp', axis=1, inplace=True)\n",
    "df.drop('Column 1', axis=1, inplace=True)"
   ]
  },
  {
   "cell_type": "code",
   "execution_count": 6,
   "metadata": {},
   "outputs": [
    {
     "name": "stdout",
     "output_type": "stream",
     "text": [
      "<class 'pandas.core.frame.DataFrame'>\n",
      "RangeIndex: 1107 entries, 0 to 1106\n",
      "Data columns (total 7 columns):\n",
      " #   Column    Non-Null Count  Dtype  \n",
      "---  ------    --------------  -----  \n",
      " 0   Age       1107 non-null   int64  \n",
      " 1   Gender    1107 non-null   object \n",
      " 2   Major     1106 non-null   object \n",
      " 3   Distance  1107 non-null   float64\n",
      " 4   Mode      1098 non-null   object \n",
      " 5   Traffic   1106 non-null   object \n",
      " 6   Time      1105 non-null   float64\n",
      "dtypes: float64(2), int64(1), object(4)\n",
      "memory usage: 60.7+ KB\n"
     ]
    }
   ],
   "source": [
    "df.info()"
   ]
  },
  {
   "cell_type": "code",
   "execution_count": 7,
   "metadata": {},
   "outputs": [
    {
     "data": {
      "text/plain": [
       "Gender\n",
       "Male      647\n",
       "Female    430\n",
       "Other      30\n",
       "Name: count, dtype: int64"
      ]
     },
     "execution_count": 7,
     "metadata": {},
     "output_type": "execute_result"
    }
   ],
   "source": [
    "df['Gender'].value_counts()"
   ]
  },
  {
   "cell_type": "code",
   "execution_count": 8,
   "metadata": {},
   "outputs": [],
   "source": [
    "# df['Gender'] = df['Gender'].apply(lambda x: 'Male' if x == '0' else ('Female' if x == '1' else x))"
   ]
  },
  {
   "cell_type": "code",
   "execution_count": 9,
   "metadata": {},
   "outputs": [
    {
     "data": {
      "text/plain": [
       "Gender\n",
       "Male      647\n",
       "Female    430\n",
       "Other      30\n",
       "Name: count, dtype: int64"
      ]
     },
     "execution_count": 9,
     "metadata": {},
     "output_type": "execute_result"
    }
   ],
   "source": [
    "df['Gender'].value_counts()"
   ]
  },
  {
   "cell_type": "code",
   "execution_count": 10,
   "metadata": {},
   "outputs": [
    {
     "data": {
      "text/plain": [
       "Major\n",
       "CSE                    563\n",
       "EEE                    215\n",
       "Business                86\n",
       "Engineering             84\n",
       "Computer Science        35\n",
       "Arts                    21\n",
       "Biology                 19\n",
       "CE                      17\n",
       "Mathematics             11\n",
       "Law                      7\n",
       "BBA                      7\n",
       "English                  5\n",
       "BSAg                     5\n",
       "ME                       3\n",
       "GE                       2\n",
       "Education                2\n",
       "IT                       2\n",
       "MBBS                     2\n",
       "Agriculture              2\n",
       "Economics                2\n",
       "IPE                      2\n",
       "CS                       1\n",
       "Bss                      1\n",
       "Other                    1\n",
       "BA                       1\n",
       "Bsag                     1\n",
       "Ag                       1\n",
       "Social Work              1\n",
       "Physics                  1\n",
       "BSAg                     1\n",
       "Agriculture              1\n",
       "Agricultural             1\n",
       "Chemistry                1\n",
       " URP                     1\n",
       "nuclear engineering      1\n",
       "Name: count, dtype: int64"
      ]
     },
     "execution_count": 10,
     "metadata": {},
     "output_type": "execute_result"
    }
   ],
   "source": [
    "df['Major'].value_counts()"
   ]
  },
  {
   "cell_type": "markdown",
   "metadata": {},
   "source": [
    "*Standardizing the Names*"
   ]
  },
  {
   "cell_type": "code",
   "execution_count": 11,
   "metadata": {},
   "outputs": [],
   "source": [
    "df.loc[df['Major'].isin(['CSE', 'CS', 'Computer Science']), 'Major'] = 'Computer Science'\n",
    "df.loc[df['Major'].isin(['CE']), 'Major'] = 'Civil Engineering'\n",
    "df.loc[df['Major'].isin(['ME']), 'Major'] = 'Mechanical Engineering'\n",
    "df.loc[df['Major'].isin(['BBA', 'Business']), 'Major'] = 'Business Administration'\n",
    "df.loc[df['Major'].isin(['BSAg', 'Bsag', 'Ag', 'Agriculture', 'Agriculture ', 'Agricultural', 'Agricultural ']), 'Major'] = 'Agriculture'\n",
    "df.loc[df['Major'].isin(['nuclear engineering']), 'Major'] = 'Nuclear Engineering'\n",
    "df.loc[df['Major'].isin(['Bss', 'Social Work']), 'Major'] = 'Social Science'\n",
    "df.loc[df['Major'].isin(['BA', 'Arts']), 'Major'] = 'Arts'\n",
    "df.loc[df['Major'].isin([' URP']), 'Major'] = 'URP'"
   ]
  },
  {
   "cell_type": "code",
   "execution_count": 12,
   "metadata": {},
   "outputs": [
    {
     "data": {
      "text/plain": [
       "Major\n",
       "Computer Science           599\n",
       "EEE                        215\n",
       "Business Administration     93\n",
       "Engineering                 84\n",
       "Arts                        22\n",
       "Biology                     19\n",
       "Civil Engineering           17\n",
       "Mathematics                 11\n",
       "Agriculture                 11\n",
       "Law                          7\n",
       "English                      5\n",
       "Mechanical Engineering       3\n",
       "IT                           2\n",
       "MBBS                         2\n",
       "Economics                    2\n",
       "Education                    2\n",
       "Social Science               2\n",
       "IPE                          2\n",
       "GE                           2\n",
       "Other                        1\n",
       "BSAg                         1\n",
       "Physics                      1\n",
       "Chemistry                    1\n",
       "URP                          1\n",
       "Nuclear Engineering          1\n",
       "Name: count, dtype: int64"
      ]
     },
     "execution_count": 12,
     "metadata": {},
     "output_type": "execute_result"
    }
   ],
   "source": [
    "df['Major'].value_counts()"
   ]
  },
  {
   "cell_type": "code",
   "execution_count": 13,
   "metadata": {},
   "outputs": [
    {
     "data": {
      "text/html": [
       "<div>\n",
       "<style scoped>\n",
       "    .dataframe tbody tr th:only-of-type {\n",
       "        vertical-align: middle;\n",
       "    }\n",
       "\n",
       "    .dataframe tbody tr th {\n",
       "        vertical-align: top;\n",
       "    }\n",
       "\n",
       "    .dataframe thead th {\n",
       "        text-align: right;\n",
       "    }\n",
       "</style>\n",
       "<table border=\"1\" class=\"dataframe\">\n",
       "  <thead>\n",
       "    <tr style=\"text-align: right;\">\n",
       "      <th></th>\n",
       "      <th>Age</th>\n",
       "      <th>Gender</th>\n",
       "      <th>Major</th>\n",
       "      <th>Distance</th>\n",
       "      <th>Mode</th>\n",
       "      <th>Traffic</th>\n",
       "      <th>Time</th>\n",
       "    </tr>\n",
       "  </thead>\n",
       "  <tbody>\n",
       "    <tr>\n",
       "      <th>0</th>\n",
       "      <td>25</td>\n",
       "      <td>Male</td>\n",
       "      <td>Computer Science</td>\n",
       "      <td>11.0</td>\n",
       "      <td>Bus</td>\n",
       "      <td>High</td>\n",
       "      <td>200.0</td>\n",
       "    </tr>\n",
       "    <tr>\n",
       "      <th>1</th>\n",
       "      <td>25</td>\n",
       "      <td>Male</td>\n",
       "      <td>Computer Science</td>\n",
       "      <td>2.0</td>\n",
       "      <td>Walk</td>\n",
       "      <td>Low</td>\n",
       "      <td>20.0</td>\n",
       "    </tr>\n",
       "    <tr>\n",
       "      <th>2</th>\n",
       "      <td>25</td>\n",
       "      <td>Male</td>\n",
       "      <td>Computer Science</td>\n",
       "      <td>4.0</td>\n",
       "      <td>Bus</td>\n",
       "      <td>Medium</td>\n",
       "      <td>120.0</td>\n",
       "    </tr>\n",
       "    <tr>\n",
       "      <th>3</th>\n",
       "      <td>24</td>\n",
       "      <td>Female</td>\n",
       "      <td>Computer Science</td>\n",
       "      <td>4.3</td>\n",
       "      <td>Bus</td>\n",
       "      <td>High</td>\n",
       "      <td>120.0</td>\n",
       "    </tr>\n",
       "    <tr>\n",
       "      <th>4</th>\n",
       "      <td>25</td>\n",
       "      <td>Male</td>\n",
       "      <td>Computer Science</td>\n",
       "      <td>6.0</td>\n",
       "      <td>Bus</td>\n",
       "      <td>Medium</td>\n",
       "      <td>65.0</td>\n",
       "    </tr>\n",
       "  </tbody>\n",
       "</table>\n",
       "</div>"
      ],
      "text/plain": [
       "   Age  Gender             Major  Distance  Mode Traffic   Time\n",
       "0   25    Male  Computer Science      11.0   Bus    High  200.0\n",
       "1   25    Male  Computer Science       2.0  Walk     Low   20.0\n",
       "2   25    Male  Computer Science       4.0   Bus  Medium  120.0\n",
       "3   24  Female  Computer Science       4.3   Bus    High  120.0\n",
       "4   25    Male  Computer Science       6.0   Bus  Medium   65.0"
      ]
     },
     "execution_count": 13,
     "metadata": {},
     "output_type": "execute_result"
    }
   ],
   "source": [
    "df.head()"
   ]
  },
  {
   "cell_type": "code",
   "execution_count": 14,
   "metadata": {},
   "outputs": [
    {
     "data": {
      "text/plain": [
       "Age         0\n",
       "Gender      0\n",
       "Major       1\n",
       "Distance    0\n",
       "Mode        9\n",
       "Traffic     1\n",
       "Time        2\n",
       "dtype: int64"
      ]
     },
     "execution_count": 14,
     "metadata": {},
     "output_type": "execute_result"
    }
   ],
   "source": [
    "df.isnull().sum()"
   ]
  },
  {
   "cell_type": "code",
   "execution_count": 15,
   "metadata": {},
   "outputs": [
    {
     "data": {
      "text/plain": [
       "np.int64(50)"
      ]
     },
     "execution_count": 15,
     "metadata": {},
     "output_type": "execute_result"
    }
   ],
   "source": [
    "df.duplicated().sum()"
   ]
  },
  {
   "cell_type": "code",
   "execution_count": 16,
   "metadata": {},
   "outputs": [],
   "source": [
    "# Standardizing transportation modes\n",
    "df.loc[df['Mode'].str.lower().isin(['rickshaw', 'rickshaw ','riskha', 'auto rickshaw', 'autorickshaw', 'autorickshaw ',\n",
    "                                    'auto-rickshaw', 'autoricshaw', 'autorickshaws', 'autorickshaws ', 'rickshaw', 'Autorickshaws']), 'Mode'] = 'Rickshaw'\n",
    "\n",
    "df.loc[df['Mode'].str.lower().isin(['walking', 'walk', 'on foot', 'by foot', 'by walk', \n",
    "                                    'from resident hall', 'walk and bus', 'on foot']), 'Mode'] = 'Walk'\n",
    "\n",
    "df.loc[df['Mode'].str.lower().isin(['cycle', 'bicycle', 'bike', 'e motor', 'bicycle']), 'Mode'] = 'Bike'\n",
    "\n",
    "df.loc[df['Mode'].str.lower().isin(['bus', 'bus & auto']), 'Mode'] = 'Bus'\n",
    "\n",
    "df.loc[df['Mode'].str.lower().isin(['car']), 'Mode'] = 'Car'\n",
    "df.loc[df['Mode'].str.lower().isin(['cycle ', 'bicycle ']), 'Mode'] = 'Bicycle'\n"
   ]
  },
  {
   "cell_type": "code",
   "execution_count": 17,
   "metadata": {},
   "outputs": [],
   "source": [
    "index = df[(df.Mode == '???')].index\n",
    "index1 =  df[( df.Mode == '?????? ')].index\n",
    "df.drop(index, inplace=True)\n",
    "df.drop(index1, inplace=True)"
   ]
  },
  {
   "cell_type": "code",
   "execution_count": 18,
   "metadata": {},
   "outputs": [
    {
     "data": {
      "text/plain": [
       "Mode\n",
       "Bus         466\n",
       "Walk        225\n",
       "Car         223\n",
       "Bike        138\n",
       "Rickshaw     44\n",
       "Bicycle       2\n",
       "Name: count, dtype: int64"
      ]
     },
     "execution_count": 18,
     "metadata": {},
     "output_type": "execute_result"
    }
   ],
   "source": [
    "df['Mode'].value_counts()"
   ]
  },
  {
   "cell_type": "code",
   "execution_count": 19,
   "metadata": {},
   "outputs": [
    {
     "data": {
      "text/plain": [
       "Traffic\n",
       "Medium    384\n",
       "Low       372\n",
       "High      350\n",
       "Name: count, dtype: int64"
      ]
     },
     "execution_count": 19,
     "metadata": {},
     "output_type": "execute_result"
    }
   ],
   "source": [
    "df['Traffic'].value_counts()"
   ]
  },
  {
   "cell_type": "code",
   "execution_count": 20,
   "metadata": {},
   "outputs": [
    {
     "data": {
      "text/html": [
       "<div>\n",
       "<style scoped>\n",
       "    .dataframe tbody tr th:only-of-type {\n",
       "        vertical-align: middle;\n",
       "    }\n",
       "\n",
       "    .dataframe tbody tr th {\n",
       "        vertical-align: top;\n",
       "    }\n",
       "\n",
       "    .dataframe thead th {\n",
       "        text-align: right;\n",
       "    }\n",
       "</style>\n",
       "<table border=\"1\" class=\"dataframe\">\n",
       "  <thead>\n",
       "    <tr style=\"text-align: right;\">\n",
       "      <th></th>\n",
       "      <th>count</th>\n",
       "      <th>mean</th>\n",
       "      <th>std</th>\n",
       "      <th>min</th>\n",
       "      <th>25%</th>\n",
       "      <th>50%</th>\n",
       "      <th>75%</th>\n",
       "      <th>max</th>\n",
       "    </tr>\n",
       "  </thead>\n",
       "  <tbody>\n",
       "    <tr>\n",
       "      <th>Age</th>\n",
       "      <td>1107.0</td>\n",
       "      <td>25.725384</td>\n",
       "      <td>5.673175</td>\n",
       "      <td>18.0</td>\n",
       "      <td>23.0</td>\n",
       "      <td>25.0</td>\n",
       "      <td>27.0</td>\n",
       "      <td>60.0</td>\n",
       "    </tr>\n",
       "    <tr>\n",
       "      <th>Distance</th>\n",
       "      <td>1107.0</td>\n",
       "      <td>8.405935</td>\n",
       "      <td>7.796815</td>\n",
       "      <td>0.0</td>\n",
       "      <td>4.0</td>\n",
       "      <td>7.0</td>\n",
       "      <td>10.0</td>\n",
       "      <td>50.0</td>\n",
       "    </tr>\n",
       "    <tr>\n",
       "      <th>Time</th>\n",
       "      <td>1105.0</td>\n",
       "      <td>94.582081</td>\n",
       "      <td>77.106379</td>\n",
       "      <td>1.0</td>\n",
       "      <td>40.0</td>\n",
       "      <td>84.0</td>\n",
       "      <td>130.0</td>\n",
       "      <td>780.0</td>\n",
       "    </tr>\n",
       "  </tbody>\n",
       "</table>\n",
       "</div>"
      ],
      "text/plain": [
       "           count       mean        std   min   25%   50%    75%    max\n",
       "Age       1107.0  25.725384   5.673175  18.0  23.0  25.0   27.0   60.0\n",
       "Distance  1107.0   8.405935   7.796815   0.0   4.0   7.0   10.0   50.0\n",
       "Time      1105.0  94.582081  77.106379   1.0  40.0  84.0  130.0  780.0"
      ]
     },
     "execution_count": 20,
     "metadata": {},
     "output_type": "execute_result"
    }
   ],
   "source": [
    "df.describe().T"
   ]
  },
  {
   "cell_type": "markdown",
   "metadata": {},
   "source": [
    "### Univariate Analysis"
   ]
  },
  {
   "cell_type": "code",
   "execution_count": 21,
   "metadata": {},
   "outputs": [
    {
     "data": {
      "image/png": "[encoded data removed]",
      "text/plain": [
       "<Figure size 1600x1000 with 6 Axes>"
      ]
     },
     "metadata": {},
     "output_type": "display_data"
    }
   ],
   "source": [
    "plt.figure(figsize=(16, 10))\n",
    "plt.subplot(2, 3, 1)\n",
    "df['Gender'].value_counts().plot(kind='pie', autopct='%1.1f%%', shadow=True, startangle=90)\n",
    "plt.title('Gender Distribution')\n",
    "\n",
    "plt.subplot(2, 3, 2)\n",
    "df['Major'].value_counts().plot(kind='barh')\n",
    "plt.title('Major Distribution')\n",
    "plt.xticks(rotation=45, ha='right')\n",
    "\n",
    "plt.subplot(2, 3, 3)\n",
    "df['Mode'].value_counts().plot(kind='barh')\n",
    "plt.title('Transportation Medium')\n",
    "\n",
    "plt.subplot(2, 3, 4)\n",
    "df['Traffic'].value_counts().plot(kind='barh')\n",
    "plt.title('Traffic Levels')\n",
    "\n",
    "plt.subplot(2, 3, 5)\n",
    "plt.hist(df['Time'], bins=10, color='skyblue', edgecolor='black')\n",
    "plt.title('Commute Time')\n",
    "\n",
    "plt.subplot(2, 3, 6)\n",
    "sns.histplot(data=df,x='Distance', bins=10, color='skyblue', edgecolor='black')\n",
    "plt.title('Commute Distance')\n",
    "\n",
    "plt.tight_layout()\n",
    "plt.show()"
   ]
  },
  {
   "cell_type": "markdown",
   "metadata": {},
   "source": [
    "**Traffic vs Commute Time**"
   ]
  },
  {
   "cell_type": "code",
   "execution_count": 22,
   "metadata": {},
   "outputs": [
    {
     "data": {
      "image/png": "[encoded data removed]",
      "text/plain": [
       "<Figure size 640x480 with 1 Axes>"
      ]
     },
     "metadata": {},
     "output_type": "display_data"
    }
   ],
   "source": [
    "df.groupby('Traffic')['Time'].mean().plot(kind='bar')\n",
    "plt.show()"
   ]
  },
  {
   "cell_type": "markdown",
   "metadata": {},
   "source": [
    "*Insight: More traffic faced by employees corresponds to more time to commute to work*"
   ]
  },
  {
   "cell_type": "code",
   "execution_count": 23,
   "metadata": {},
   "outputs": [
    {
     "data": {
      "image/png": "[encoded data removed]",
      "text/plain": [
       "<Figure size 640x480 with 1 Axes>"
      ]
     },
     "metadata": {},
     "output_type": "display_data"
    }
   ],
   "source": [
    "sns.scatterplot(x='Time', y='Distance', hue='Traffic', data=df)\n",
    "plt.title(\"Commute Time by Distane and Transportation Mode\")\n",
    "plt.show()"
   ]
  },
  {
   "cell_type": "markdown",
   "metadata": {},
   "source": [
    "*Insights: Ignoring anomalies, we can see a rough pattern that greater distances correspond to higher traffic as well as higher commute times.*"
   ]
  },
  {
   "cell_type": "markdown",
   "metadata": {},
   "source": [
    "**Commute Mode (Transportation) vs Commute Time**"
   ]
  },
  {
   "cell_type": "code",
   "execution_count": 24,
   "metadata": {},
   "outputs": [
    {
     "data": {
      "image/png": "[encoded data removed]",
      "text/plain": [
       "<Figure size 640x480 with 1 Axes>"
      ]
     },
     "metadata": {},
     "output_type": "display_data"
    }
   ],
   "source": [
    "df.groupby('Mode')['Time'].mean().plot(kind='barh')\n",
    "plt.show()"
   ]
  },
  {
   "cell_type": "code",
   "execution_count": 25,
   "metadata": {},
   "outputs": [
    {
     "data": {
      "image/png": "[encoded data removed]",
      "text/plain": [
       "<Figure size 640x480 with 1 Axes>"
      ]
     },
     "metadata": {},
     "output_type": "display_data"
    }
   ],
   "source": [
    "sns.boxplot(x='Time', y='Mode', data=df)\n",
    "plt.show()"
   ]
  },
  {
   "cell_type": "markdown",
   "metadata": {},
   "source": [
    "*Insight: The commute time varies between different modes of transportation.Typically, those who walk to work take very little time with the least variation, since they live close to their workplace. Little variation is also seen in commute times via bike and rickshaw, bikes taking more time likely due to greater distance. Those who travel by car take a wider range of times, median being less than bikes. Finally, bus takes the widest range of times, median time being the largest of all transports.*"
   ]
  },
  {
   "cell_type": "code",
   "execution_count": 26,
   "metadata": {},
   "outputs": [
    {
     "data": {
      "image/png": "[encoded data removed]",
      "text/plain": [
       "<Figure size 640x480 with 1 Axes>"
      ]
     },
     "metadata": {},
     "output_type": "display_data"
    }
   ],
   "source": [
    "sns.scatterplot(x='Time', y='Distance', hue='Mode', data=df)\n",
    "plt.title(\"Commute Time by Distane and Transportation Mode\")\n",
    "plt.show()"
   ]
  },
  {
   "cell_type": "markdown",
   "metadata": {},
   "source": [
    "Positive Correlation between distance and commute time. Also accross different transportations, we see the variance of bus is the most while that of bike is the least."
   ]
  },
  {
   "cell_type": "markdown",
   "metadata": {},
   "source": [
    "Heatmap"
   ]
  },
  {
   "cell_type": "code",
   "execution_count": 27,
   "metadata": {},
   "outputs": [
    {
     "name": "stdout",
     "output_type": "stream",
     "text": [
      "<class 'pandas.core.frame.DataFrame'>\n",
      "RangeIndex: 1107 entries, 0 to 1106\n",
      "Data columns (total 7 columns):\n",
      " #   Column    Non-Null Count  Dtype  \n",
      "---  ------    --------------  -----  \n",
      " 0   Age       1107 non-null   int64  \n",
      " 1   Gender    1107 non-null   object \n",
      " 2   Major     1106 non-null   object \n",
      " 3   Distance  1107 non-null   float64\n",
      " 4   Mode      1098 non-null   object \n",
      " 5   Traffic   1106 non-null   object \n",
      " 6   Time      1105 non-null   float64\n",
      "dtypes: float64(2), int64(1), object(4)\n",
      "memory usage: 60.7+ KB\n"
     ]
    }
   ],
   "source": [
    "df.info()"
   ]
  },
  {
   "cell_type": "code",
   "execution_count": 28,
   "metadata": {},
   "outputs": [
    {
     "data": {
      "image/png": "[encoded data removed]",
      "text/plain": [
       "<Figure size 750x750 with 12 Axes>"
      ]
     },
     "metadata": {},
     "output_type": "display_data"
    }
   ],
   "source": [
    "sns.pairplot(df, vars=df[['Age', 'Distance', 'Time']], kind='scatter', diag_kind='hist')\n",
    "plt.show()"
   ]
  },
  {
   "cell_type": "code",
   "execution_count": 29,
   "metadata": {},
   "outputs": [],
   "source": [
    "num_values = ['Age', 'Distance', 'Time']\n",
    "correlation = df[num_values].corr()"
   ]
  },
  {
   "cell_type": "code",
   "execution_count": 30,
   "metadata": {},
   "outputs": [
    {
     "data": {
      "text/plain": [
       "Age         0.057420\n",
       "Distance    0.341575\n",
       "Time        1.000000\n",
       "Name: Time, dtype: float64"
      ]
     },
     "execution_count": 30,
     "metadata": {},
     "output_type": "execute_result"
    }
   ],
   "source": [
    "correlation['Time']"
   ]
  },
  {
   "cell_type": "code",
   "execution_count": 31,
   "metadata": {},
   "outputs": [
    {
     "data": {
      "image/png": "[encoded data removed]",
      "text/plain": [
       "<Figure size 640x480 with 2 Axes>"
      ]
     },
     "metadata": {},
     "output_type": "display_data"
    }
   ],
   "source": [
    "sns.heatmap(correlation, annot=True)\n",
    "plt.show()"
   ]
  },
  {
   "cell_type": "markdown",
   "metadata": {},
   "source": [
    "As expected, we see heavy positive correlation between commute distance and commute time."
   ]
  },
  {
   "cell_type": "markdown",
   "metadata": {},
   "source": [
    "### SUMMARY"
   ]
  },
  {
   "cell_type": "markdown",
   "metadata": {},
   "source": [
    "The dataset contains employee workplace commute information. Most of the employees are male and major in CSE. They travel mostly by bus. While majority face low levels of traffic, numerous employees face dense traffic when commuting to and from work. Generally, greater distance, higher traffic result in higher commute times. The most common transport, bus, faces a wide range of commute times, averaging the highest among all other transport types."
   ]
  },
  {
   "cell_type": "markdown",
   "metadata": {},
   "source": [
    "# Regression Analysis"
   ]
  },
  {
   "cell_type": "markdown",
   "metadata": {},
   "source": [
    "*Removing Missing Values and Duplicates*"
   ]
  },
  {
   "cell_type": "code",
   "execution_count": 32,
   "metadata": {},
   "outputs": [],
   "source": [
    "df.dropna(inplace=True)\n",
    "df.drop_duplicates(inplace=True)"
   ]
  },
  {
   "cell_type": "markdown",
   "metadata": {},
   "source": [
    "*Saving Cleaned Dataset*"
   ]
  },
  {
   "cell_type": "code",
   "execution_count": 34,
   "metadata": {},
   "outputs": [],
   "source": [
    "df.to_csv('cleaned_dataset/commute_time_cleaned.csv', index=False)"
   ]
  },
  {
   "cell_type": "markdown",
   "metadata": {},
   "source": [
    "*Outlier Removal*"
   ]
  },
  {
   "cell_type": "code",
   "execution_count": 326,
   "metadata": {},
   "outputs": [
    {
     "name": "stdout",
     "output_type": "stream",
     "text": [
      "<class 'pandas.core.frame.DataFrame'>\n",
      "Index: 1045 entries, 0 to 1105\n",
      "Data columns (total 7 columns):\n",
      " #   Column    Non-Null Count  Dtype  \n",
      "---  ------    --------------  -----  \n",
      " 0   Age       1045 non-null   int64  \n",
      " 1   Gender    1045 non-null   object \n",
      " 2   Major     1045 non-null   object \n",
      " 3   Distance  1045 non-null   float64\n",
      " 4   Mode      1045 non-null   object \n",
      " 5   Traffic   1045 non-null   object \n",
      " 6   Time      1045 non-null   float64\n",
      "dtypes: float64(2), int64(1), object(4)\n",
      "memory usage: 65.3+ KB\n"
     ]
    }
   ],
   "source": [
    "df.info()"
   ]
  },
  {
   "cell_type": "code",
   "execution_count": 327,
   "metadata": {},
   "outputs": [],
   "source": [
    "# remove numerical values using IQR method\n",
    "def remove_outlier(column_name, df=df):\n",
    "    Q1 = df[column_name].quantile(0.25)\n",
    "    Q3 = df[column_name].quantile(0.75)\n",
    "    IQR = Q3 - Q1\n",
    "    lower_bound = Q1 - 1.5 * IQR\n",
    "    upper_bound = Q3 + 1.5 * IQR\n",
    "    return df[(df[column_name] >= lower_bound) & (df[column_name] <= upper_bound)]"
   ]
  },
  {
   "cell_type": "code",
   "execution_count": 328,
   "metadata": {},
   "outputs": [],
   "source": [
    "df = remove_outlier('Age')\n",
    "df = remove_outlier('Distance')\n",
    "df = remove_outlier('Time')"
   ]
  },
  {
   "cell_type": "code",
   "execution_count": 329,
   "metadata": {},
   "outputs": [],
   "source": [
    "valid_modes = df['Mode'].value_counts()[df['Mode'].value_counts() >= 5].index\n",
    "df = df[df['Mode'].isin(valid_modes)]"
   ]
  },
  {
   "cell_type": "code",
   "execution_count": 330,
   "metadata": {},
   "outputs": [],
   "source": [
    "valid_modes = df['Major'].value_counts()[df['Major'].value_counts() >= 5].index\n",
    "df = df[df['Major'].isin(valid_modes)]"
   ]
  },
  {
   "cell_type": "code",
   "execution_count": 331,
   "metadata": {},
   "outputs": [
    {
     "name": "stdout",
     "output_type": "stream",
     "text": [
      "<class 'pandas.core.frame.DataFrame'>\n",
      "Index: 1000 entries, 0 to 1105\n",
      "Data columns (total 7 columns):\n",
      " #   Column    Non-Null Count  Dtype  \n",
      "---  ------    --------------  -----  \n",
      " 0   Age       1000 non-null   int64  \n",
      " 1   Gender    1000 non-null   object \n",
      " 2   Major     1000 non-null   object \n",
      " 3   Distance  1000 non-null   float64\n",
      " 4   Mode      1000 non-null   object \n",
      " 5   Traffic   1000 non-null   object \n",
      " 6   Time      1000 non-null   float64\n",
      "dtypes: float64(2), int64(1), object(4)\n",
      "memory usage: 62.5+ KB\n"
     ]
    }
   ],
   "source": [
    "df.info()"
   ]
  },
  {
   "cell_type": "markdown",
   "metadata": {},
   "source": [
    "*One-hot-encoding the Categorical Features*"
   ]
  },
  {
   "cell_type": "code",
   "execution_count": 332,
   "metadata": {},
   "outputs": [],
   "source": [
    "categorical_columns = ['Gender', 'Major', 'Mode']\n",
    "df_encode = pd.get_dummies(data = df, prefix = 'OHE', prefix_sep='_',\n",
    "               columns = categorical_columns,\n",
    "               drop_first =True,\n",
    "              dtype='int8')"
   ]
  },
  {
   "cell_type": "code",
   "execution_count": 333,
   "metadata": {},
   "outputs": [
    {
     "data": {
      "text/html": [
       "<div>\n",
       "<style scoped>\n",
       "    .dataframe tbody tr th:only-of-type {\n",
       "        vertical-align: middle;\n",
       "    }\n",
       "\n",
       "    .dataframe tbody tr th {\n",
       "        vertical-align: top;\n",
       "    }\n",
       "\n",
       "    .dataframe thead th {\n",
       "        text-align: right;\n",
       "    }\n",
       "</style>\n",
       "<table border=\"1\" class=\"dataframe\">\n",
       "  <thead>\n",
       "    <tr style=\"text-align: right;\">\n",
       "      <th></th>\n",
       "      <th>Age</th>\n",
       "      <th>Distance</th>\n",
       "      <th>Traffic</th>\n",
       "      <th>Time</th>\n",
       "      <th>OHE_Male</th>\n",
       "      <th>OHE_Other</th>\n",
       "      <th>OHE_Arts</th>\n",
       "      <th>OHE_Biology</th>\n",
       "      <th>OHE_Business Administration</th>\n",
       "      <th>OHE_Civil Engineering</th>\n",
       "      <th>OHE_Computer Science</th>\n",
       "      <th>OHE_EEE</th>\n",
       "      <th>OHE_Engineering</th>\n",
       "      <th>OHE_English</th>\n",
       "      <th>OHE_Law</th>\n",
       "      <th>OHE_Mathematics</th>\n",
       "      <th>OHE_Bus</th>\n",
       "      <th>OHE_Car</th>\n",
       "      <th>OHE_Rickshaw</th>\n",
       "      <th>OHE_Walk</th>\n",
       "    </tr>\n",
       "  </thead>\n",
       "  <tbody>\n",
       "    <tr>\n",
       "      <th>0</th>\n",
       "      <td>25</td>\n",
       "      <td>11.0</td>\n",
       "      <td>High</td>\n",
       "      <td>200.0</td>\n",
       "      <td>1</td>\n",
       "      <td>0</td>\n",
       "      <td>0</td>\n",
       "      <td>0</td>\n",
       "      <td>0</td>\n",
       "      <td>0</td>\n",
       "      <td>1</td>\n",
       "      <td>0</td>\n",
       "      <td>0</td>\n",
       "      <td>0</td>\n",
       "      <td>0</td>\n",
       "      <td>0</td>\n",
       "      <td>1</td>\n",
       "      <td>0</td>\n",
       "      <td>0</td>\n",
       "      <td>0</td>\n",
       "    </tr>\n",
       "    <tr>\n",
       "      <th>1</th>\n",
       "      <td>25</td>\n",
       "      <td>2.0</td>\n",
       "      <td>Low</td>\n",
       "      <td>20.0</td>\n",
       "      <td>1</td>\n",
       "      <td>0</td>\n",
       "      <td>0</td>\n",
       "      <td>0</td>\n",
       "      <td>0</td>\n",
       "      <td>0</td>\n",
       "      <td>1</td>\n",
       "      <td>0</td>\n",
       "      <td>0</td>\n",
       "      <td>0</td>\n",
       "      <td>0</td>\n",
       "      <td>0</td>\n",
       "      <td>0</td>\n",
       "      <td>0</td>\n",
       "      <td>0</td>\n",
       "      <td>1</td>\n",
       "    </tr>\n",
       "    <tr>\n",
       "      <th>2</th>\n",
       "      <td>25</td>\n",
       "      <td>4.0</td>\n",
       "      <td>Medium</td>\n",
       "      <td>120.0</td>\n",
       "      <td>1</td>\n",
       "      <td>0</td>\n",
       "      <td>0</td>\n",
       "      <td>0</td>\n",
       "      <td>0</td>\n",
       "      <td>0</td>\n",
       "      <td>1</td>\n",
       "      <td>0</td>\n",
       "      <td>0</td>\n",
       "      <td>0</td>\n",
       "      <td>0</td>\n",
       "      <td>0</td>\n",
       "      <td>1</td>\n",
       "      <td>0</td>\n",
       "      <td>0</td>\n",
       "      <td>0</td>\n",
       "    </tr>\n",
       "    <tr>\n",
       "      <th>3</th>\n",
       "      <td>24</td>\n",
       "      <td>4.3</td>\n",
       "      <td>High</td>\n",
       "      <td>120.0</td>\n",
       "      <td>0</td>\n",
       "      <td>0</td>\n",
       "      <td>0</td>\n",
       "      <td>0</td>\n",
       "      <td>0</td>\n",
       "      <td>0</td>\n",
       "      <td>1</td>\n",
       "      <td>0</td>\n",
       "      <td>0</td>\n",
       "      <td>0</td>\n",
       "      <td>0</td>\n",
       "      <td>0</td>\n",
       "      <td>1</td>\n",
       "      <td>0</td>\n",
       "      <td>0</td>\n",
       "      <td>0</td>\n",
       "    </tr>\n",
       "    <tr>\n",
       "      <th>4</th>\n",
       "      <td>25</td>\n",
       "      <td>6.0</td>\n",
       "      <td>Medium</td>\n",
       "      <td>65.0</td>\n",
       "      <td>1</td>\n",
       "      <td>0</td>\n",
       "      <td>0</td>\n",
       "      <td>0</td>\n",
       "      <td>0</td>\n",
       "      <td>0</td>\n",
       "      <td>1</td>\n",
       "      <td>0</td>\n",
       "      <td>0</td>\n",
       "      <td>0</td>\n",
       "      <td>0</td>\n",
       "      <td>0</td>\n",
       "      <td>1</td>\n",
       "      <td>0</td>\n",
       "      <td>0</td>\n",
       "      <td>0</td>\n",
       "    </tr>\n",
       "  </tbody>\n",
       "</table>\n",
       "</div>"
      ],
      "text/plain": [
       "   Age  Distance Traffic   Time  OHE_Male  OHE_Other  OHE_Arts  OHE_Biology  \\\n",
       "0   25      11.0    High  200.0         1          0         0            0   \n",
       "1   25       2.0     Low   20.0         1          0         0            0   \n",
       "2   25       4.0  Medium  120.0         1          0         0            0   \n",
       "3   24       4.3    High  120.0         0          0         0            0   \n",
       "4   25       6.0  Medium   65.0         1          0         0            0   \n",
       "\n",
       "   OHE_Business Administration  OHE_Civil Engineering  OHE_Computer Science  \\\n",
       "0                            0                      0                     1   \n",
       "1                            0                      0                     1   \n",
       "2                            0                      0                     1   \n",
       "3                            0                      0                     1   \n",
       "4                            0                      0                     1   \n",
       "\n",
       "   OHE_EEE  OHE_Engineering  OHE_English  OHE_Law  OHE_Mathematics  OHE_Bus  \\\n",
       "0        0                0            0        0                0        1   \n",
       "1        0                0            0        0                0        0   \n",
       "2        0                0            0        0                0        1   \n",
       "3        0                0            0        0                0        1   \n",
       "4        0                0            0        0                0        1   \n",
       "\n",
       "   OHE_Car  OHE_Rickshaw  OHE_Walk  \n",
       "0        0             0         0  \n",
       "1        0             0         1  \n",
       "2        0             0         0  \n",
       "3        0             0         0  \n",
       "4        0             0         0  "
      ]
     },
     "execution_count": 333,
     "metadata": {},
     "output_type": "execute_result"
    }
   ],
   "source": [
    "df_encode.head()"
   ]
  },
  {
   "cell_type": "markdown",
   "metadata": {},
   "source": [
    "*Ordinal/Label Encoding the Traffic Column*"
   ]
  },
  {
   "cell_type": "code",
   "execution_count": 334,
   "metadata": {},
   "outputs": [
    {
     "data": {
      "text/html": [
       "<div>\n",
       "<style scoped>\n",
       "    .dataframe tbody tr th:only-of-type {\n",
       "        vertical-align: middle;\n",
       "    }\n",
       "\n",
       "    .dataframe tbody tr th {\n",
       "        vertical-align: top;\n",
       "    }\n",
       "\n",
       "    .dataframe thead th {\n",
       "        text-align: right;\n",
       "    }\n",
       "</style>\n",
       "<table border=\"1\" class=\"dataframe\">\n",
       "  <thead>\n",
       "    <tr style=\"text-align: right;\">\n",
       "      <th></th>\n",
       "      <th>Age</th>\n",
       "      <th>Distance</th>\n",
       "      <th>Traffic</th>\n",
       "      <th>Time</th>\n",
       "      <th>OHE_Male</th>\n",
       "      <th>OHE_Other</th>\n",
       "      <th>OHE_Arts</th>\n",
       "      <th>OHE_Biology</th>\n",
       "      <th>OHE_Business Administration</th>\n",
       "      <th>OHE_Civil Engineering</th>\n",
       "      <th>OHE_Computer Science</th>\n",
       "      <th>OHE_EEE</th>\n",
       "      <th>OHE_Engineering</th>\n",
       "      <th>OHE_English</th>\n",
       "      <th>OHE_Law</th>\n",
       "      <th>OHE_Mathematics</th>\n",
       "      <th>OHE_Bus</th>\n",
       "      <th>OHE_Car</th>\n",
       "      <th>OHE_Rickshaw</th>\n",
       "      <th>OHE_Walk</th>\n",
       "    </tr>\n",
       "  </thead>\n",
       "  <tbody>\n",
       "    <tr>\n",
       "      <th>0</th>\n",
       "      <td>25</td>\n",
       "      <td>11.0</td>\n",
       "      <td>2</td>\n",
       "      <td>200.0</td>\n",
       "      <td>1</td>\n",
       "      <td>0</td>\n",
       "      <td>0</td>\n",
       "      <td>0</td>\n",
       "      <td>0</td>\n",
       "      <td>0</td>\n",
       "      <td>1</td>\n",
       "      <td>0</td>\n",
       "      <td>0</td>\n",
       "      <td>0</td>\n",
       "      <td>0</td>\n",
       "      <td>0</td>\n",
       "      <td>1</td>\n",
       "      <td>0</td>\n",
       "      <td>0</td>\n",
       "      <td>0</td>\n",
       "    </tr>\n",
       "    <tr>\n",
       "      <th>1</th>\n",
       "      <td>25</td>\n",
       "      <td>2.0</td>\n",
       "      <td>0</td>\n",
       "      <td>20.0</td>\n",
       "      <td>1</td>\n",
       "      <td>0</td>\n",
       "      <td>0</td>\n",
       "      <td>0</td>\n",
       "      <td>0</td>\n",
       "      <td>0</td>\n",
       "      <td>1</td>\n",
       "      <td>0</td>\n",
       "      <td>0</td>\n",
       "      <td>0</td>\n",
       "      <td>0</td>\n",
       "      <td>0</td>\n",
       "      <td>0</td>\n",
       "      <td>0</td>\n",
       "      <td>0</td>\n",
       "      <td>1</td>\n",
       "    </tr>\n",
       "    <tr>\n",
       "      <th>2</th>\n",
       "      <td>25</td>\n",
       "      <td>4.0</td>\n",
       "      <td>1</td>\n",
       "      <td>120.0</td>\n",
       "      <td>1</td>\n",
       "      <td>0</td>\n",
       "      <td>0</td>\n",
       "      <td>0</td>\n",
       "      <td>0</td>\n",
       "      <td>0</td>\n",
       "      <td>1</td>\n",
       "      <td>0</td>\n",
       "      <td>0</td>\n",
       "      <td>0</td>\n",
       "      <td>0</td>\n",
       "      <td>0</td>\n",
       "      <td>1</td>\n",
       "      <td>0</td>\n",
       "      <td>0</td>\n",
       "      <td>0</td>\n",
       "    </tr>\n",
       "    <tr>\n",
       "      <th>3</th>\n",
       "      <td>24</td>\n",
       "      <td>4.3</td>\n",
       "      <td>2</td>\n",
       "      <td>120.0</td>\n",
       "      <td>0</td>\n",
       "      <td>0</td>\n",
       "      <td>0</td>\n",
       "      <td>0</td>\n",
       "      <td>0</td>\n",
       "      <td>0</td>\n",
       "      <td>1</td>\n",
       "      <td>0</td>\n",
       "      <td>0</td>\n",
       "      <td>0</td>\n",
       "      <td>0</td>\n",
       "      <td>0</td>\n",
       "      <td>1</td>\n",
       "      <td>0</td>\n",
       "      <td>0</td>\n",
       "      <td>0</td>\n",
       "    </tr>\n",
       "    <tr>\n",
       "      <th>4</th>\n",
       "      <td>25</td>\n",
       "      <td>6.0</td>\n",
       "      <td>1</td>\n",
       "      <td>65.0</td>\n",
       "      <td>1</td>\n",
       "      <td>0</td>\n",
       "      <td>0</td>\n",
       "      <td>0</td>\n",
       "      <td>0</td>\n",
       "      <td>0</td>\n",
       "      <td>1</td>\n",
       "      <td>0</td>\n",
       "      <td>0</td>\n",
       "      <td>0</td>\n",
       "      <td>0</td>\n",
       "      <td>0</td>\n",
       "      <td>1</td>\n",
       "      <td>0</td>\n",
       "      <td>0</td>\n",
       "      <td>0</td>\n",
       "    </tr>\n",
       "  </tbody>\n",
       "</table>\n",
       "</div>"
      ],
      "text/plain": [
       "   Age  Distance  Traffic   Time  OHE_Male  OHE_Other  OHE_Arts  OHE_Biology  \\\n",
       "0   25      11.0        2  200.0         1          0         0            0   \n",
       "1   25       2.0        0   20.0         1          0         0            0   \n",
       "2   25       4.0        1  120.0         1          0         0            0   \n",
       "3   24       4.3        2  120.0         0          0         0            0   \n",
       "4   25       6.0        1   65.0         1          0         0            0   \n",
       "\n",
       "   OHE_Business Administration  OHE_Civil Engineering  OHE_Computer Science  \\\n",
       "0                            0                      0                     1   \n",
       "1                            0                      0                     1   \n",
       "2                            0                      0                     1   \n",
       "3                            0                      0                     1   \n",
       "4                            0                      0                     1   \n",
       "\n",
       "   OHE_EEE  OHE_Engineering  OHE_English  OHE_Law  OHE_Mathematics  OHE_Bus  \\\n",
       "0        0                0            0        0                0        1   \n",
       "1        0                0            0        0                0        0   \n",
       "2        0                0            0        0                0        1   \n",
       "3        0                0            0        0                0        1   \n",
       "4        0                0            0        0                0        1   \n",
       "\n",
       "   OHE_Car  OHE_Rickshaw  OHE_Walk  \n",
       "0        0             0         0  \n",
       "1        0             0         1  \n",
       "2        0             0         0  \n",
       "3        0             0         0  \n",
       "4        0             0         0  "
      ]
     },
     "execution_count": 334,
     "metadata": {},
     "output_type": "execute_result"
    }
   ],
   "source": [
    "traffic_map = {'Low': 0, 'Medium': 1, 'High': 2}\n",
    "\n",
    "df_encode['Traffic'] = df['Traffic'].map(traffic_map)\n",
    "df_encode.head()"
   ]
  },
  {
   "cell_type": "markdown",
   "metadata": {},
   "source": [
    "*Features-Label Split*"
   ]
  },
  {
   "cell_type": "code",
   "execution_count": 335,
   "metadata": {},
   "outputs": [
    {
     "data": {
      "text/plain": [
       "Age                            0\n",
       "Distance                       0\n",
       "Traffic                        0\n",
       "Time                           0\n",
       "OHE_Male                       0\n",
       "OHE_Other                      0\n",
       "OHE_Arts                       0\n",
       "OHE_Biology                    0\n",
       "OHE_Business Administration    0\n",
       "OHE_Civil Engineering          0\n",
       "OHE_Computer Science           0\n",
       "OHE_EEE                        0\n",
       "OHE_Engineering                0\n",
       "OHE_English                    0\n",
       "OHE_Law                        0\n",
       "OHE_Mathematics                0\n",
       "OHE_Bus                        0\n",
       "OHE_Car                        0\n",
       "OHE_Rickshaw                   0\n",
       "OHE_Walk                       0\n",
       "dtype: int64"
      ]
     },
     "execution_count": 335,
     "metadata": {},
     "output_type": "execute_result"
    }
   ],
   "source": [
    "df_encode.isnull().sum()"
   ]
  },
  {
   "cell_type": "code",
   "execution_count": 336,
   "metadata": {},
   "outputs": [],
   "source": [
    "df_encode.dropna(inplace=True)"
   ]
  },
  {
   "cell_type": "code",
   "execution_count": 337,
   "metadata": {},
   "outputs": [
    {
     "data": {
      "text/plain": [
       "Age                            0\n",
       "Distance                       0\n",
       "Traffic                        0\n",
       "Time                           0\n",
       "OHE_Male                       0\n",
       "OHE_Other                      0\n",
       "OHE_Arts                       0\n",
       "OHE_Biology                    0\n",
       "OHE_Business Administration    0\n",
       "OHE_Civil Engineering          0\n",
       "OHE_Computer Science           0\n",
       "OHE_EEE                        0\n",
       "OHE_Engineering                0\n",
       "OHE_English                    0\n",
       "OHE_Law                        0\n",
       "OHE_Mathematics                0\n",
       "OHE_Bus                        0\n",
       "OHE_Car                        0\n",
       "OHE_Rickshaw                   0\n",
       "OHE_Walk                       0\n",
       "dtype: int64"
      ]
     },
     "execution_count": 337,
     "metadata": {},
     "output_type": "execute_result"
    }
   ],
   "source": [
    "df_encode.isnull().sum()"
   ]
  },
  {
   "cell_type": "code",
   "execution_count": 338,
   "metadata": {},
   "outputs": [],
   "source": [
    "X = df_encode.drop('Time', axis=1)\n",
    "Y = df_encode['Time']"
   ]
  },
  {
   "cell_type": "markdown",
   "metadata": {},
   "source": [
    "*Train-Test Split*"
   ]
  },
  {
   "cell_type": "code",
   "execution_count": 339,
   "metadata": {},
   "outputs": [],
   "source": [
    "from sklearn.model_selection import train_test_split\n",
    "X_train, X_test, y_train, y_test = train_test_split(X,Y,test_size=0.2,random_state=23)"
   ]
  },
  {
   "cell_type": "markdown",
   "metadata": {},
   "source": [
    "*Applying Linear Regression*"
   ]
  },
  {
   "cell_type": "code",
   "execution_count": 340,
   "metadata": {},
   "outputs": [],
   "source": [
    "from sklearn.linear_model import LinearRegression\n",
    "from sklearn.metrics import mean_squared_error, mean_absolute_error, root_mean_squared_error, r2_score"
   ]
  },
  {
   "cell_type": "code",
   "execution_count": 341,
   "metadata": {},
   "outputs": [],
   "source": [
    "def showMetrics(y_test, predictions):\n",
    "    print(\"Evaluation Metrics-\")\n",
    "    print(\"Mean Squared Error (MSE): %.2f\" % mean_squared_error(y_test, predictions))\n",
    "    print(\"Root Mean Squared Error (RMSE): %.2f\" % root_mean_squared_error(y_test, predictions))\n",
    "    print(\"Mean Absolute Error (MAE): %.2f\" % mean_absolute_error(y_test, predictions))\n",
    "    print(\"R_2 Score: %.2f\" % r2_score(y_test, predictions))\n",
    "\n",
    "def showParameters(algo):\n",
    "    features = X_train.columns\n",
    "    coefficients = algo.coef_\n",
    "    print(\"Feature----Coefficient\")\n",
    "    for feature, coef in zip(features, coefficients):\n",
    "        print(f\"{feature}: {coef}\")"
   ]
  },
  {
   "cell_type": "code",
   "execution_count": 342,
   "metadata": {},
   "outputs": [
    {
     "name": "stdout",
     "output_type": "stream",
     "text": [
      "Feature----Coefficient\n",
      "Age: -0.7138142910029358\n",
      "Distance: 3.872062786520601\n",
      "Traffic: 20.353947104235466\n",
      "OHE_Male: 1.985104442959034\n",
      "OHE_Other: -26.40184059051879\n",
      "OHE_Arts: -34.45975513718971\n",
      "OHE_Biology: -63.01836483737064\n",
      "OHE_Business Administration: -54.21618791562327\n",
      "OHE_Civil Engineering: -23.256540871071774\n",
      "OHE_Computer Science: -29.026231394205855\n",
      "OHE_EEE: -26.343947694233698\n",
      "OHE_Engineering: -47.13568149154637\n",
      "OHE_English: -35.035285548389396\n",
      "OHE_Law: -50.80021709368122\n",
      "OHE_Mathematics: -49.12178801231186\n",
      "OHE_Bus: 34.423906147955904\n",
      "OHE_Car: 14.788475604054064\n",
      "OHE_Rickshaw: -3.9465705843913117\n",
      "OHE_Walk: -7.307901273079834\n",
      "Evaluation Metrics-\n",
      "Mean Squared Error (MSE): 1576.85\n",
      "Root Mean Squared Error (RMSE): 39.71\n",
      "Mean Absolute Error (MAE): 27.73\n",
      "R_2 Score: 0.52\n"
     ]
    }
   ],
   "source": [
    "lin_reg = LinearRegression()\n",
    "lin_reg.fit(X_train,y_train)\n",
    "predictions = lin_reg.predict(X_test)\n",
    "predictions\n",
    "showParameters(lin_reg)\n",
    "showMetrics(y_test, predictions)"
   ]
  },
  {
   "cell_type": "markdown",
   "metadata": {},
   "source": [
    "#### *Lasso Regression*"
   ]
  },
  {
   "cell_type": "markdown",
   "metadata": {},
   "source": [
    "**Weak Regularization**"
   ]
  },
  {
   "cell_type": "code",
   "execution_count": 343,
   "metadata": {},
   "outputs": [],
   "source": [
    "#lasso regression\n",
    "from sklearn.linear_model import Lasso\n",
    "lasso_w = Lasso(alpha=0.01)"
   ]
  },
  {
   "cell_type": "code",
   "execution_count": 344,
   "metadata": {},
   "outputs": [
    {
     "name": "stdout",
     "output_type": "stream",
     "text": [
      "Feature----Coefficient\n",
      "Age: -0.7138142910029358\n",
      "Distance: 3.872062786520601\n",
      "Traffic: 20.353947104235466\n",
      "OHE_Male: 1.985104442959034\n",
      "OHE_Other: -26.40184059051879\n",
      "OHE_Arts: -34.45975513718971\n",
      "OHE_Biology: -63.01836483737064\n",
      "OHE_Business Administration: -54.21618791562327\n",
      "OHE_Civil Engineering: -23.256540871071774\n",
      "OHE_Computer Science: -29.026231394205855\n",
      "OHE_EEE: -26.343947694233698\n",
      "OHE_Engineering: -47.13568149154637\n",
      "OHE_English: -35.035285548389396\n",
      "OHE_Law: -50.80021709368122\n",
      "OHE_Mathematics: -49.12178801231186\n",
      "OHE_Bus: 34.423906147955904\n",
      "OHE_Car: 14.788475604054064\n",
      "OHE_Rickshaw: -3.9465705843913117\n",
      "OHE_Walk: -7.307901273079834\n",
      "Evaluation Metrics-\n",
      "Mean Squared Error (MSE): 1582.33\n",
      "Root Mean Squared Error (RMSE): 39.78\n",
      "Mean Absolute Error (MAE): 27.83\n",
      "R_2 Score: 0.51\n"
     ]
    }
   ],
   "source": [
    "lasso_w.fit(X_train, y_train)\n",
    "lasso_predictions = lasso_w.predict(X_test)\n",
    "showParameters(lin_reg)\n",
    "showMetrics(y_test, lasso_predictions)"
   ]
  },
  {
   "cell_type": "markdown",
   "metadata": {},
   "source": [
    "With low value of alpha or regularization strength, none of the coefficients shrink to zero."
   ]
  },
  {
   "cell_type": "markdown",
   "metadata": {},
   "source": [
    "**Moderate Regularization Strength**"
   ]
  },
  {
   "cell_type": "code",
   "execution_count": 345,
   "metadata": {},
   "outputs": [
    {
     "name": "stdout",
     "output_type": "stream",
     "text": [
      "Feature----Coefficient\n",
      "Age: -0.9179384603762331\n",
      "Distance: 3.8770563315969127\n",
      "Traffic: 20.138530925738223\n",
      "OHE_Male: 1.568049394079588\n",
      "OHE_Other: -26.33250283458867\n",
      "OHE_Arts: -0.0\n",
      "OHE_Biology: -25.022519051516888\n",
      "OHE_Business Administration: -22.29260471178756\n",
      "OHE_Civil Engineering: 0.0\n",
      "OHE_Computer Science: 1.4259441124327352\n",
      "OHE_EEE: 3.9785792929251547\n",
      "OHE_Engineering: -14.8425029803097\n",
      "OHE_English: -0.0\n",
      "OHE_Law: -5.502336621722664\n",
      "OHE_Mathematics: -5.073195966545442\n",
      "OHE_Bus: 34.67853850356335\n",
      "OHE_Car: 13.745597983737579\n",
      "OHE_Rickshaw: -2.1794630422882424\n",
      "OHE_Walk: -6.20145908733017\n",
      "Evaluation Metrics-\n",
      "Mean Squared Error (MSE): 1618.26\n",
      "Root Mean Squared Error (RMSE): 40.23\n",
      "Mean Absolute Error (MAE): 28.23\n",
      "R_2 Score: 0.50\n"
     ]
    }
   ],
   "source": [
    "lasso_m = Lasso(0.1)\n",
    "lasso_m.fit(X_train, y_train)\n",
    "lasso_predictions = lasso_m.predict(X_test)\n",
    "showParameters(lasso_m)\n",
    "showMetrics(y_test, lasso_predictions)"
   ]
  },
  {
   "cell_type": "code",
   "execution_count": 346,
   "metadata": {},
   "outputs": [
    {
     "name": "stdout",
     "output_type": "stream",
     "text": [
      "Feature----Coefficient\n",
      "Age: -1.041617924595833\n",
      "Distance: 3.710749868348713\n",
      "Traffic: 20.207860373054356\n",
      "OHE_Male: 0.8316280350869183\n",
      "OHE_Other: -16.62792059076678\n",
      "OHE_Arts: 0.0\n",
      "OHE_Biology: -0.0\n",
      "OHE_Business Administration: -9.995414432302429\n",
      "OHE_Civil Engineering: 0.0\n",
      "OHE_Computer Science: 7.861139910051811\n",
      "OHE_EEE: 9.904612432620508\n",
      "OHE_Engineering: -2.470502824735303\n",
      "OHE_English: 0.0\n",
      "OHE_Law: -0.0\n",
      "OHE_Mathematics: -0.0\n",
      "OHE_Bus: 32.43305766641189\n",
      "OHE_Car: 9.49726262183873\n",
      "OHE_Rickshaw: -0.0\n",
      "OHE_Walk: -5.8481872609556635\n",
      "Evaluation Metrics-\n",
      "Mean Squared Error (MSE): 1666.47\n",
      "Root Mean Squared Error (RMSE): 40.82\n",
      "Mean Absolute Error (MAE): 29.17\n",
      "R_2 Score: 0.49\n"
     ]
    }
   ],
   "source": [
    "lasso_m = Lasso(0.5)\n",
    "lasso_m.fit(X_train, y_train)\n",
    "lasso_predictions = lasso_m.predict(X_test)\n",
    "showParameters(lasso_m)\n",
    "showMetrics(y_test, lasso_predictions)"
   ]
  },
  {
   "cell_type": "markdown",
   "metadata": {},
   "source": [
    "\n",
    "The coefficients of features OHE_Rickshaw and OHE_CSE have shrunk to zero. This implies these features are less relevant to or less predictive of the label outputs\n"
   ]
  },
  {
   "cell_type": "markdown",
   "metadata": {},
   "source": [
    "**High Regularization**"
   ]
  },
  {
   "cell_type": "code",
   "execution_count": 347,
   "metadata": {},
   "outputs": [
    {
     "name": "stdout",
     "output_type": "stream",
     "text": [
      "Feature----Coefficient\n",
      "Age: -1.1483742354351318\n",
      "Distance: 3.5760383612228512\n",
      "Traffic: 19.96105492696393\n",
      "OHE_Male: 0.0\n",
      "OHE_Other: -0.0\n",
      "OHE_Arts: 0.0\n",
      "OHE_Biology: -0.0\n",
      "OHE_Business Administration: -4.827339382018205\n",
      "OHE_Civil Engineering: 0.0\n",
      "OHE_Computer Science: 6.271049587268293\n",
      "OHE_EEE: 7.528399342804511\n",
      "OHE_Engineering: -0.0\n",
      "OHE_English: 0.0\n",
      "OHE_Law: -0.0\n",
      "OHE_Mathematics: -0.0\n",
      "OHE_Bus: 28.589549132987848\n",
      "OHE_Car: 3.8249289213121926\n",
      "OHE_Rickshaw: -0.0\n",
      "OHE_Walk: -6.593159537216817\n",
      "Evaluation Metrics-\n",
      "Mean Squared Error (MSE): 1739.72\n",
      "Root Mean Squared Error (RMSE): 41.71\n",
      "Mean Absolute Error (MAE): 30.52\n",
      "R_2 Score: 0.47\n"
     ]
    }
   ],
   "source": [
    "lasso_h = Lasso(alpha=1)\n",
    "\n",
    "lasso_h.fit(X_train, y_train)\n",
    "lasso_predictions = lasso_h.predict(X_test)\n",
    "showParameters(lasso_h)\n",
    "showMetrics(y_test, lasso_predictions)"
   ]
  },
  {
   "cell_type": "markdown",
   "metadata": {},
   "source": [
    "Another coefficient corresponding to OHE_Walk has shrunk to zero"
   ]
  },
  {
   "cell_type": "code",
   "execution_count": 348,
   "metadata": {},
   "outputs": [
    {
     "name": "stdout",
     "output_type": "stream",
     "text": [
      "Feature----Coefficient\n",
      "Age: -1.0019057569519028\n",
      "Distance: 3.5377442430523804\n",
      "Traffic: 10.191336654394275\n",
      "OHE_Male: -0.0\n",
      "OHE_Other: -0.0\n",
      "OHE_Arts: -0.0\n",
      "OHE_Biology: -0.0\n",
      "OHE_Business Administration: -0.0\n",
      "OHE_Civil Engineering: 0.0\n",
      "OHE_Computer Science: 0.0\n",
      "OHE_EEE: 0.0\n",
      "OHE_Engineering: -0.0\n",
      "OHE_English: 0.0\n",
      "OHE_Law: -0.0\n",
      "OHE_Mathematics: -0.0\n",
      "OHE_Bus: 0.0\n",
      "OHE_Car: -0.0\n",
      "OHE_Rickshaw: -0.0\n",
      "OHE_Walk: -0.0\n",
      "Evaluation Metrics-\n",
      "Mean Squared Error (MSE): 2326.39\n",
      "Root Mean Squared Error (RMSE): 48.23\n",
      "Mean Absolute Error (MAE): 38.98\n",
      "R_2 Score: 0.29\n"
     ]
    }
   ],
   "source": [
    "lasso_h = Lasso(alpha=10)\n",
    "\n",
    "lasso_h.fit(X_train, y_train)\n",
    "lasso_predictions = lasso_h.predict(X_test)\n",
    "showParameters(lasso_h)\n",
    "showMetrics(y_test, lasso_predictions)"
   ]
  },
  {
   "cell_type": "markdown",
   "metadata": {},
   "source": [
    "All coefficients execept that of Commute distance have shrunk to zero, indicating that commute distance is the most predictive of the label commute time.\n"
   ]
  },
  {
   "cell_type": "markdown",
   "metadata": {},
   "source": [
    "*Ridge Regression*"
   ]
  },
  {
   "cell_type": "code",
   "execution_count": 349,
   "metadata": {},
   "outputs": [
    {
     "name": "stdout",
     "output_type": "stream",
     "text": [
      "Feature----Coefficient\n",
      "Age: -0.7156933568010414\n",
      "Distance: 3.8723448746769353\n",
      "Traffic: 20.351850272923212\n",
      "OHE_Male: 1.978106576190886\n",
      "OHE_Other: -26.421800952263702\n",
      "OHE_Arts: -33.907323687337524\n",
      "OHE_Biology: -62.42935668994204\n",
      "OHE_Business Administration: -53.682341258986284\n",
      "OHE_Civil Engineering: -22.713991918967498\n",
      "OHE_Computer Science: -28.500814013878628\n",
      "OHE_EEE: -25.8174467891569\n",
      "OHE_Engineering: -46.59962629028069\n",
      "OHE_English: -34.39218421589918\n",
      "OHE_Law: -50.18161482556488\n",
      "OHE_Mathematics: -48.500412809640586\n",
      "OHE_Bus: 34.42823899162545\n",
      "OHE_Car: 14.783293834337224\n",
      "OHE_Rickshaw: -3.9485284326522216\n",
      "OHE_Walk: -7.294377819886162\n",
      "Evaluation Metrics-\n",
      "Mean Squared Error (MSE): 1577.11\n",
      "Root Mean Squared Error (RMSE): 39.71\n",
      "Mean Absolute Error (MAE): 27.74\n",
      "R_2 Score: 0.52\n"
     ]
    }
   ],
   "source": [
    "from sklearn.linear_model import Ridge\n",
    "ridge_low = Ridge(alpha=0.01)\n",
    "\n",
    "ridge_low.fit(X_train, y_train)\n",
    "ridge_predictions = ridge_low.predict(X_test)\n",
    "showParameters(ridge_low)\n",
    "showMetrics(y_test, ridge_predictions)"
   ]
  },
  {
   "cell_type": "code",
   "execution_count": 350,
   "metadata": {},
   "outputs": [
    {
     "name": "stdout",
     "output_type": "stream",
     "text": [
      "Feature----Coefficient\n",
      "Age: -0.7737141287735442\n",
      "Distance: 3.8779597416691987\n",
      "Traffic: 20.286661905298516\n",
      "OHE_Male: 1.8090335648715397\n",
      "OHE_Other: -26.760125727857027\n",
      "OHE_Arts: -18.00547248494601\n",
      "OHE_Biology: -45.214022715862576\n",
      "OHE_Business Administration: -38.22933253809022\n",
      "OHE_Civil Engineering: -7.409381713851722\n",
      "OHE_Computer Science: -13.343749608571333\n",
      "OHE_EEE: -10.632959822895389\n",
      "OHE_Engineering: -31.09925654195729\n",
      "OHE_English: -16.514891015691855\n",
      "OHE_Law: -32.12513767660877\n",
      "OHE_Mathematics: -30.483453553779114\n",
      "OHE_Bus: 34.444834694214286\n",
      "OHE_Car: 14.509029971188566\n",
      "OHE_Rickshaw: -4.104013719730559\n",
      "OHE_Walk: -7.012876857681008\n",
      "Evaluation Metrics-\n",
      "Mean Squared Error (MSE): 1587.40\n",
      "Root Mean Squared Error (RMSE): 39.84\n",
      "Mean Absolute Error (MAE): 27.88\n",
      "R_2 Score: 0.51\n"
     ]
    }
   ],
   "source": [
    "ridge_medium = Ridge(alpha=0.5)\n",
    "ridge_medium.fit(X_train, y_train)\n",
    "ridge_predictions = ridge_medium.predict(X_test)\n",
    "showParameters(ridge_medium)\n",
    "showMetrics(y_test, ridge_predictions)"
   ]
  },
  {
   "cell_type": "markdown",
   "metadata": {},
   "source": [
    "MSE and RMSE significantly lower than base LR and Lasso Regression"
   ]
  },
  {
   "cell_type": "code",
   "execution_count": 362,
   "metadata": {},
   "outputs": [],
   "source": [
    "ridge_high = Ridge(alpha=5)"
   ]
  },
  {
   "cell_type": "code",
   "execution_count": 363,
   "metadata": {},
   "outputs": [
    {
     "name": "stdout",
     "output_type": "stream",
     "text": [
      "Feature----Coefficient\n",
      "Age: -0.8935683840421944\n",
      "Distance: 3.8451936907477164\n",
      "Traffic: 20.12574395382336\n",
      "OHE_Male: 2.0370457228349195\n",
      "OHE_Other: -23.303646870627432\n",
      "OHE_Arts: 0.06907832905653757\n",
      "OHE_Biology: -21.698813863518573\n",
      "OHE_Business Administration: -19.05479483747462\n",
      "OHE_Civil Engineering: 6.254054839050344\n",
      "OHE_Computer Science: 4.561589787550967\n",
      "OHE_EEE: 7.230471496464616\n",
      "OHE_Engineering: -12.210579412190157\n",
      "OHE_English: -0.4758614421279125\n",
      "OHE_Law: -8.774514508631786\n",
      "OHE_Mathematics: -8.359058583994807\n",
      "OHE_Bus: 32.7922684806626\n",
      "OHE_Car: 12.321200264791802\n",
      "OHE_Rickshaw: -5.4520103188816424\n",
      "OHE_Walk: -8.175250329672332\n",
      "Evaluation Metrics-\n",
      "Mean Squared Error (MSE): 1613.61\n",
      "Root Mean Squared Error (RMSE): 40.17\n",
      "Mean Absolute Error (MAE): 28.19\n",
      "R_2 Score: 0.50\n"
     ]
    }
   ],
   "source": [
    "ridge_high.fit(X_train, y_train)\n",
    "ridge_predictions = ridge_high.predict(X_test)\n",
    "showParameters(ridge_high)\n",
    "showMetrics(y_test, ridge_predictions)"
   ]
  },
  {
   "cell_type": "markdown",
   "metadata": {},
   "source": [
    "**Polynomial Regression**"
   ]
  },
  {
   "cell_type": "code",
   "execution_count": 353,
   "metadata": {},
   "outputs": [],
   "source": [
    "from sklearn.preprocessing import PolynomialFeatures"
   ]
  },
  {
   "cell_type": "markdown",
   "metadata": {},
   "source": [
    "degree = 2"
   ]
  },
  {
   "cell_type": "code",
   "execution_count": 354,
   "metadata": {},
   "outputs": [
    {
     "data": {
      "text/html": [
       "<style>#sk-container-id-9 {\n",
       "  /* Definition of color scheme common for light and dark mode */\n",
       "  --sklearn-color-text: #000;\n",
       "  --sklearn-color-text-muted: #666;\n",
       "  --sklearn-color-line: gray;\n",
       "  /* Definition of color scheme for unfitted estimators */\n",
       "  --sklearn-color-unfitted-level-0: #fff5e6;\n",
       "  --sklearn-color-unfitted-level-1: #f6e4d2;\n",
       "  --sklearn-color-unfitted-level-2: #ffe0b3;\n",
       "  --sklearn-color-unfitted-level-3: chocolate;\n",
       "  /* Definition of color scheme for fitted estimators */\n",
       "  --sklearn-color-fitted-level-0: #f0f8ff;\n",
       "  --sklearn-color-fitted-level-1: #d4ebff;\n",
       "  --sklearn-color-fitted-level-2: #b3dbfd;\n",
       "  --sklearn-color-fitted-level-3: cornflowerblue;\n",
       "\n",
       "  /* Specific color for light theme */\n",
       "  --sklearn-color-text-on-default-background: var(--sg-text-color, var(--theme-code-foreground, var(--jp-content-font-color1, black)));\n",
       "  --sklearn-color-background: var(--sg-background-color, var(--theme-background, var(--jp-layout-color0, white)));\n",
       "  --sklearn-color-border-box: var(--sg-text-color, var(--theme-code-foreground, var(--jp-content-font-color1, black)));\n",
       "  --sklearn-color-icon: #696969;\n",
       "\n",
       "  @media (prefers-color-scheme: dark) {\n",
       "    /* Redefinition of color scheme for dark theme */\n",
       "    --sklearn-color-text-on-default-background: var(--sg-text-color, var(--theme-code-foreground, var(--jp-content-font-color1, white)));\n",
       "    --sklearn-color-background: var(--sg-background-color, var(--theme-background, var(--jp-layout-color0, #111)));\n",
       "    --sklearn-color-border-box: var(--sg-text-color, var(--theme-code-foreground, var(--jp-content-font-color1, white)));\n",
       "    --sklearn-color-icon: #878787;\n",
       "  }\n",
       "}\n",
       "\n",
       "#sk-container-id-9 {\n",
       "  color: var(--sklearn-color-text);\n",
       "}\n",
       "\n",
       "#sk-container-id-9 pre {\n",
       "  padding: 0;\n",
       "}\n",
       "\n",
       "#sk-container-id-9 input.sk-hidden--visually {\n",
       "  border: 0;\n",
       "  clip: rect(1px 1px 1px 1px);\n",
       "  clip: rect(1px, 1px, 1px, 1px);\n",
       "  height: 1px;\n",
       "  margin: -1px;\n",
       "  overflow: hidden;\n",
       "  padding: 0;\n",
       "  position: absolute;\n",
       "  width: 1px;\n",
       "}\n",
       "\n",
       "#sk-container-id-9 div.sk-dashed-wrapped {\n",
       "  border: 1px dashed var(--sklearn-color-line);\n",
       "  margin: 0 0.4em 0.5em 0.4em;\n",
       "  box-sizing: border-box;\n",
       "  padding-bottom: 0.4em;\n",
       "  background-color: var(--sklearn-color-background);\n",
       "}\n",
       "\n",
       "#sk-container-id-9 div.sk-container {\n",
       "  /* jupyter's `normalize.less` sets `[hidden] { display: none; }`\n",
       "     but bootstrap.min.css set `[hidden] { display: none !important; }`\n",
       "     so we also need the `!important` here to be able to override the\n",
       "     default hidden behavior on the sphinx rendered scikit-learn.org.\n",
       "     See: https://github.com/scikit-learn/scikit-learn/issues/21755 */\n",
       "  display: inline-block !important;\n",
       "  position: relative;\n",
       "}\n",
       "\n",
       "#sk-container-id-9 div.sk-text-repr-fallback {\n",
       "  display: none;\n",
       "}\n",
       "\n",
       "div.sk-parallel-item,\n",
       "div.sk-serial,\n",
       "div.sk-item {\n",
       "  /* draw centered vertical line to link estimators */\n",
       "  background-image: linear-gradient(var(--sklearn-color-text-on-default-background), var(--sklearn-color-text-on-default-background));\n",
       "  background-size: 2px 100%;\n",
       "  background-repeat: no-repeat;\n",
       "  background-position: center center;\n",
       "}\n",
       "\n",
       "/* Parallel-specific style estimator block */\n",
       "\n",
       "#sk-container-id-9 div.sk-parallel-item::after {\n",
       "  content: \"\";\n",
       "  width: 100%;\n",
       "  border-bottom: 2px solid var(--sklearn-color-text-on-default-background);\n",
       "  flex-grow: 1;\n",
       "}\n",
       "\n",
       "#sk-container-id-9 div.sk-parallel {\n",
       "  display: flex;\n",
       "  align-items: stretch;\n",
       "  justify-content: center;\n",
       "  background-color: var(--sklearn-color-background);\n",
       "  position: relative;\n",
       "}\n",
       "\n",
       "#sk-container-id-9 div.sk-parallel-item {\n",
       "  display: flex;\n",
       "  flex-direction: column;\n",
       "}\n",
       "\n",
       "#sk-container-id-9 div.sk-parallel-item:first-child::after {\n",
       "  align-self: flex-end;\n",
       "  width: 50%;\n",
       "}\n",
       "\n",
       "#sk-container-id-9 div.sk-parallel-item:last-child::after {\n",
       "  align-self: flex-start;\n",
       "  width: 50%;\n",
       "}\n",
       "\n",
       "#sk-container-id-9 div.sk-parallel-item:only-child::after {\n",
       "  width: 0;\n",
       "}\n",
       "\n",
       "/* Serial-specific style estimator block */\n",
       "\n",
       "#sk-container-id-9 div.sk-serial {\n",
       "  display: flex;\n",
       "  flex-direction: column;\n",
       "  align-items: center;\n",
       "  background-color: var(--sklearn-color-background);\n",
       "  padding-right: 1em;\n",
       "  padding-left: 1em;\n",
       "}\n",
       "\n",
       "\n",
       "/* Toggleable style: style used for estimator/Pipeline/ColumnTransformer box that is\n",
       "clickable and can be expanded/collapsed.\n",
       "- Pipeline and ColumnTransformer use this feature and define the default style\n",
       "- Estimators will overwrite some part of the style using the `sk-estimator` class\n",
       "*/\n",
       "\n",
       "/* Pipeline and ColumnTransformer style (default) */\n",
       "\n",
       "#sk-container-id-9 div.sk-toggleable {\n",
       "  /* Default theme specific background. It is overwritten whether we have a\n",
       "  specific estimator or a Pipeline/ColumnTransformer */\n",
       "  background-color: var(--sklearn-color-background);\n",
       "}\n",
       "\n",
       "/* Toggleable label */\n",
       "#sk-container-id-9 label.sk-toggleable__label {\n",
       "  cursor: pointer;\n",
       "  display: flex;\n",
       "  width: 100%;\n",
       "  margin-bottom: 0;\n",
       "  padding: 0.5em;\n",
       "  box-sizing: border-box;\n",
       "  text-align: center;\n",
       "  align-items: start;\n",
       "  justify-content: space-between;\n",
       "  gap: 0.5em;\n",
       "}\n",
       "\n",
       "#sk-container-id-9 label.sk-toggleable__label .caption {\n",
       "  font-size: 0.6rem;\n",
       "  font-weight: lighter;\n",
       "  color: var(--sklearn-color-text-muted);\n",
       "}\n",
       "\n",
       "#sk-container-id-9 label.sk-toggleable__label-arrow:before {\n",
       "  /* Arrow on the left of the label */\n",
       "  content: \"▸\";\n",
       "  float: left;\n",
       "  margin-right: 0.25em;\n",
       "  color: var(--sklearn-color-icon);\n",
       "}\n",
       "\n",
       "#sk-container-id-9 label.sk-toggleable__label-arrow:hover:before {\n",
       "  color: var(--sklearn-color-text);\n",
       "}\n",
       "\n",
       "/* Toggleable content - dropdown */\n",
       "\n",
       "#sk-container-id-9 div.sk-toggleable__content {\n",
       "  max-height: 0;\n",
       "  max-width: 0;\n",
       "  overflow: hidden;\n",
       "  text-align: left;\n",
       "  /* unfitted */\n",
       "  background-color: var(--sklearn-color-unfitted-level-0);\n",
       "}\n",
       "\n",
       "#sk-container-id-9 div.sk-toggleable__content.fitted {\n",
       "  /* fitted */\n",
       "  background-color: var(--sklearn-color-fitted-level-0);\n",
       "}\n",
       "\n",
       "#sk-container-id-9 div.sk-toggleable__content pre {\n",
       "  margin: 0.2em;\n",
       "  border-radius: 0.25em;\n",
       "  color: var(--sklearn-color-text);\n",
       "  /* unfitted */\n",
       "  background-color: var(--sklearn-color-unfitted-level-0);\n",
       "}\n",
       "\n",
       "#sk-container-id-9 div.sk-toggleable__content.fitted pre {\n",
       "  /* unfitted */\n",
       "  background-color: var(--sklearn-color-fitted-level-0);\n",
       "}\n",
       "\n",
       "#sk-container-id-9 input.sk-toggleable__control:checked~div.sk-toggleable__content {\n",
       "  /* Expand drop-down */\n",
       "  max-height: 200px;\n",
       "  max-width: 100%;\n",
       "  overflow: auto;\n",
       "}\n",
       "\n",
       "#sk-container-id-9 input.sk-toggleable__control:checked~label.sk-toggleable__label-arrow:before {\n",
       "  content: \"▾\";\n",
       "}\n",
       "\n",
       "/* Pipeline/ColumnTransformer-specific style */\n",
       "\n",
       "#sk-container-id-9 div.sk-label input.sk-toggleable__control:checked~label.sk-toggleable__label {\n",
       "  color: var(--sklearn-color-text);\n",
       "  background-color: var(--sklearn-color-unfitted-level-2);\n",
       "}\n",
       "\n",
       "#sk-container-id-9 div.sk-label.fitted input.sk-toggleable__control:checked~label.sk-toggleable__label {\n",
       "  background-color: var(--sklearn-color-fitted-level-2);\n",
       "}\n",
       "\n",
       "/* Estimator-specific style */\n",
       "\n",
       "/* Colorize estimator box */\n",
       "#sk-container-id-9 div.sk-estimator input.sk-toggleable__control:checked~label.sk-toggleable__label {\n",
       "  /* unfitted */\n",
       "  background-color: var(--sklearn-color-unfitted-level-2);\n",
       "}\n",
       "\n",
       "#sk-container-id-9 div.sk-estimator.fitted input.sk-toggleable__control:checked~label.sk-toggleable__label {\n",
       "  /* fitted */\n",
       "  background-color: var(--sklearn-color-fitted-level-2);\n",
       "}\n",
       "\n",
       "#sk-container-id-9 div.sk-label label.sk-toggleable__label,\n",
       "#sk-container-id-9 div.sk-label label {\n",
       "  /* The background is the default theme color */\n",
       "  color: var(--sklearn-color-text-on-default-background);\n",
       "}\n",
       "\n",
       "/* On hover, darken the color of the background */\n",
       "#sk-container-id-9 div.sk-label:hover label.sk-toggleable__label {\n",
       "  color: var(--sklearn-color-text);\n",
       "  background-color: var(--sklearn-color-unfitted-level-2);\n",
       "}\n",
       "\n",
       "/* Label box, darken color on hover, fitted */\n",
       "#sk-container-id-9 div.sk-label.fitted:hover label.sk-toggleable__label.fitted {\n",
       "  color: var(--sklearn-color-text);\n",
       "  background-color: var(--sklearn-color-fitted-level-2);\n",
       "}\n",
       "\n",
       "/* Estimator label */\n",
       "\n",
       "#sk-container-id-9 div.sk-label label {\n",
       "  font-family: monospace;\n",
       "  font-weight: bold;\n",
       "  display: inline-block;\n",
       "  line-height: 1.2em;\n",
       "}\n",
       "\n",
       "#sk-container-id-9 div.sk-label-container {\n",
       "  text-align: center;\n",
       "}\n",
       "\n",
       "/* Estimator-specific */\n",
       "#sk-container-id-9 div.sk-estimator {\n",
       "  font-family: monospace;\n",
       "  border: 1px dotted var(--sklearn-color-border-box);\n",
       "  border-radius: 0.25em;\n",
       "  box-sizing: border-box;\n",
       "  margin-bottom: 0.5em;\n",
       "  /* unfitted */\n",
       "  background-color: var(--sklearn-color-unfitted-level-0);\n",
       "}\n",
       "\n",
       "#sk-container-id-9 div.sk-estimator.fitted {\n",
       "  /* fitted */\n",
       "  background-color: var(--sklearn-color-fitted-level-0);\n",
       "}\n",
       "\n",
       "/* on hover */\n",
       "#sk-container-id-9 div.sk-estimator:hover {\n",
       "  /* unfitted */\n",
       "  background-color: var(--sklearn-color-unfitted-level-2);\n",
       "}\n",
       "\n",
       "#sk-container-id-9 div.sk-estimator.fitted:hover {\n",
       "  /* fitted */\n",
       "  background-color: var(--sklearn-color-fitted-level-2);\n",
       "}\n",
       "\n",
       "/* Specification for estimator info (e.g. \"i\" and \"?\") */\n",
       "\n",
       "/* Common style for \"i\" and \"?\" */\n",
       "\n",
       ".sk-estimator-doc-link,\n",
       "a:link.sk-estimator-doc-link,\n",
       "a:visited.sk-estimator-doc-link {\n",
       "  float: right;\n",
       "  font-size: smaller;\n",
       "  line-height: 1em;\n",
       "  font-family: monospace;\n",
       "  background-color: var(--sklearn-color-background);\n",
       "  border-radius: 1em;\n",
       "  height: 1em;\n",
       "  width: 1em;\n",
       "  text-decoration: none !important;\n",
       "  margin-left: 0.5em;\n",
       "  text-align: center;\n",
       "  /* unfitted */\n",
       "  border: var(--sklearn-color-unfitted-level-1) 1pt solid;\n",
       "  color: var(--sklearn-color-unfitted-level-1);\n",
       "}\n",
       "\n",
       ".sk-estimator-doc-link.fitted,\n",
       "a:link.sk-estimator-doc-link.fitted,\n",
       "a:visited.sk-estimator-doc-link.fitted {\n",
       "  /* fitted */\n",
       "  border: var(--sklearn-color-fitted-level-1) 1pt solid;\n",
       "  color: var(--sklearn-color-fitted-level-1);\n",
       "}\n",
       "\n",
       "/* On hover */\n",
       "div.sk-estimator:hover .sk-estimator-doc-link:hover,\n",
       ".sk-estimator-doc-link:hover,\n",
       "div.sk-label-container:hover .sk-estimator-doc-link:hover,\n",
       ".sk-estimator-doc-link:hover {\n",
       "  /* unfitted */\n",
       "  background-color: var(--sklearn-color-unfitted-level-3);\n",
       "  color: var(--sklearn-color-background);\n",
       "  text-decoration: none;\n",
       "}\n",
       "\n",
       "div.sk-estimator.fitted:hover .sk-estimator-doc-link.fitted:hover,\n",
       ".sk-estimator-doc-link.fitted:hover,\n",
       "div.sk-label-container:hover .sk-estimator-doc-link.fitted:hover,\n",
       ".sk-estimator-doc-link.fitted:hover {\n",
       "  /* fitted */\n",
       "  background-color: var(--sklearn-color-fitted-level-3);\n",
       "  color: var(--sklearn-color-background);\n",
       "  text-decoration: none;\n",
       "}\n",
       "\n",
       "/* Span, style for the box shown on hovering the info icon */\n",
       ".sk-estimator-doc-link span {\n",
       "  display: none;\n",
       "  z-index: 9999;\n",
       "  position: relative;\n",
       "  font-weight: normal;\n",
       "  right: .2ex;\n",
       "  padding: .5ex;\n",
       "  margin: .5ex;\n",
       "  width: min-content;\n",
       "  min-width: 20ex;\n",
       "  max-width: 50ex;\n",
       "  color: var(--sklearn-color-text);\n",
       "  box-shadow: 2pt 2pt 4pt #999;\n",
       "  /* unfitted */\n",
       "  background: var(--sklearn-color-unfitted-level-0);\n",
       "  border: .5pt solid var(--sklearn-color-unfitted-level-3);\n",
       "}\n",
       "\n",
       ".sk-estimator-doc-link.fitted span {\n",
       "  /* fitted */\n",
       "  background: var(--sklearn-color-fitted-level-0);\n",
       "  border: var(--sklearn-color-fitted-level-3);\n",
       "}\n",
       "\n",
       ".sk-estimator-doc-link:hover span {\n",
       "  display: block;\n",
       "}\n",
       "\n",
       "/* \"?\"-specific style due to the `<a>` HTML tag */\n",
       "\n",
       "#sk-container-id-9 a.estimator_doc_link {\n",
       "  float: right;\n",
       "  font-size: 1rem;\n",
       "  line-height: 1em;\n",
       "  font-family: monospace;\n",
       "  background-color: var(--sklearn-color-background);\n",
       "  border-radius: 1rem;\n",
       "  height: 1rem;\n",
       "  width: 1rem;\n",
       "  text-decoration: none;\n",
       "  /* unfitted */\n",
       "  color: var(--sklearn-color-unfitted-level-1);\n",
       "  border: var(--sklearn-color-unfitted-level-1) 1pt solid;\n",
       "}\n",
       "\n",
       "#sk-container-id-9 a.estimator_doc_link.fitted {\n",
       "  /* fitted */\n",
       "  border: var(--sklearn-color-fitted-level-1) 1pt solid;\n",
       "  color: var(--sklearn-color-fitted-level-1);\n",
       "}\n",
       "\n",
       "/* On hover */\n",
       "#sk-container-id-9 a.estimator_doc_link:hover {\n",
       "  /* unfitted */\n",
       "  background-color: var(--sklearn-color-unfitted-level-3);\n",
       "  color: var(--sklearn-color-background);\n",
       "  text-decoration: none;\n",
       "}\n",
       "\n",
       "#sk-container-id-9 a.estimator_doc_link.fitted:hover {\n",
       "  /* fitted */\n",
       "  background-color: var(--sklearn-color-fitted-level-3);\n",
       "}\n",
       "</style><div id=\"sk-container-id-9\" class=\"sk-top-container\"><div class=\"sk-text-repr-fallback\"><pre>LinearRegression()</pre><b>In a Jupyter environment, please rerun this cell to show the HTML representation or trust the notebook. <br />On GitHub, the HTML representation is unable to render, please try loading this page with nbviewer.org.</b></div><div class=\"sk-container\" hidden><div class=\"sk-item\"><div class=\"sk-estimator fitted sk-toggleable\"><input class=\"sk-toggleable__control sk-hidden--visually\" id=\"sk-estimator-id-9\" type=\"checkbox\" checked><label for=\"sk-estimator-id-9\" class=\"sk-toggleable__label fitted sk-toggleable__label-arrow\"><div><div>LinearRegression</div></div><div><a class=\"sk-estimator-doc-link fitted\" rel=\"noreferrer\" target=\"_blank\" href=\"https://scikit-learn.org/1.6/modules/generated/sklearn.linear_model.LinearRegression.html\">?<span>Documentation for LinearRegression</span></a><span class=\"sk-estimator-doc-link fitted\">i<span>Fitted</span></span></div></label><div class=\"sk-toggleable__content fitted\"><pre>LinearRegression()</pre></div> </div></div></div></div>"
      ],
      "text/plain": [
       "LinearRegression()"
      ]
     },
     "execution_count": 354,
     "metadata": {},
     "output_type": "execute_result"
    }
   ],
   "source": [
    "poly2 = PolynomialFeatures(2)\n",
    "\n",
    "X_poly = poly2.fit_transform(X)\n",
    "\n",
    "X_poly_train, X_poly_test, y_poly_train, y_poly_test = train_test_split(X_poly,Y,test_size=0.2,random_state=23)\n",
    "poly2.fit(X_poly_train, y_poly_train)\n",
    "lin_reg2 = LinearRegression()\n",
    "lin_reg2.fit(X_poly_train, y_poly_train)"
   ]
  },
  {
   "cell_type": "code",
   "execution_count": 355,
   "metadata": {},
   "outputs": [],
   "source": [
    "poly2_predictions = lin_reg2.predict(X_poly_test)"
   ]
  },
  {
   "cell_type": "code",
   "execution_count": 356,
   "metadata": {},
   "outputs": [
    {
     "name": "stdout",
     "output_type": "stream",
     "text": [
      "Feature----Coefficient\n",
      "Age: -6.6260696629649054e-09\n",
      "Distance: 6.44210493363594\n",
      "Traffic: 1.9533619266652125\n",
      "OHE_Male: 25.589624366972494\n",
      "OHE_Other: -22.53232553775269\n",
      "OHE_Arts: -42.29708777139883\n",
      "OHE_Biology: -22.931873225959425\n",
      "OHE_Business Administration: 18.912772477074263\n",
      "OHE_Civil Engineering: 12.29699377690855\n",
      "OHE_Computer Science: -221.6197660305006\n",
      "OHE_EEE: 28.144120687276217\n",
      "OHE_Engineering: 3.2824877412033913\n",
      "OHE_English: 18.411409199391382\n",
      "OHE_Law: -2.441917054667776\n",
      "OHE_Mathematics: -7.0273453872774825\n",
      "OHE_Bus: -71.95485003377317\n",
      "OHE_Car: 34.98437822408861\n",
      "OHE_Rickshaw: 5.165829103058903\n",
      "OHE_Walk: 16.317185598693094\n",
      "Evaluation Metrics-\n",
      "Mean Squared Error (MSE): 1734.07\n",
      "Root Mean Squared Error (RMSE): 41.64\n",
      "Mean Absolute Error (MAE): 28.61\n",
      "R_2 Score: 0.47\n"
     ]
    }
   ],
   "source": [
    "showParameters(lin_reg2)\n",
    "showMetrics(y_poly_test, poly2_predictions)"
   ]
  },
  {
   "cell_type": "markdown",
   "metadata": {},
   "source": [
    "Due to polynomial features, the model is overfitting - performance on test set is worse."
   ]
  },
  {
   "cell_type": "markdown",
   "metadata": {},
   "source": [
    "degree = 3"
   ]
  },
  {
   "cell_type": "code",
   "execution_count": 357,
   "metadata": {},
   "outputs": [
    {
     "data": {
      "text/html": [
       "<style>#sk-container-id-10 {\n",
       "  /* Definition of color scheme common for light and dark mode */\n",
       "  --sklearn-color-text: #000;\n",
       "  --sklearn-color-text-muted: #666;\n",
       "  --sklearn-color-line: gray;\n",
       "  /* Definition of color scheme for unfitted estimators */\n",
       "  --sklearn-color-unfitted-level-0: #fff5e6;\n",
       "  --sklearn-color-unfitted-level-1: #f6e4d2;\n",
       "  --sklearn-color-unfitted-level-2: #ffe0b3;\n",
       "  --sklearn-color-unfitted-level-3: chocolate;\n",
       "  /* Definition of color scheme for fitted estimators */\n",
       "  --sklearn-color-fitted-level-0: #f0f8ff;\n",
       "  --sklearn-color-fitted-level-1: #d4ebff;\n",
       "  --sklearn-color-fitted-level-2: #b3dbfd;\n",
       "  --sklearn-color-fitted-level-3: cornflowerblue;\n",
       "\n",
       "  /* Specific color for light theme */\n",
       "  --sklearn-color-text-on-default-background: var(--sg-text-color, var(--theme-code-foreground, var(--jp-content-font-color1, black)));\n",
       "  --sklearn-color-background: var(--sg-background-color, var(--theme-background, var(--jp-layout-color0, white)));\n",
       "  --sklearn-color-border-box: var(--sg-text-color, var(--theme-code-foreground, var(--jp-content-font-color1, black)));\n",
       "  --sklearn-color-icon: #696969;\n",
       "\n",
       "  @media (prefers-color-scheme: dark) {\n",
       "    /* Redefinition of color scheme for dark theme */\n",
       "    --sklearn-color-text-on-default-background: var(--sg-text-color, var(--theme-code-foreground, var(--jp-content-font-color1, white)));\n",
       "    --sklearn-color-background: var(--sg-background-color, var(--theme-background, var(--jp-layout-color0, #111)));\n",
       "    --sklearn-color-border-box: var(--sg-text-color, var(--theme-code-foreground, var(--jp-content-font-color1, white)));\n",
       "    --sklearn-color-icon: #878787;\n",
       "  }\n",
       "}\n",
       "\n",
       "#sk-container-id-10 {\n",
       "  color: var(--sklearn-color-text);\n",
       "}\n",
       "\n",
       "#sk-container-id-10 pre {\n",
       "  padding: 0;\n",
       "}\n",
       "\n",
       "#sk-container-id-10 input.sk-hidden--visually {\n",
       "  border: 0;\n",
       "  clip: rect(1px 1px 1px 1px);\n",
       "  clip: rect(1px, 1px, 1px, 1px);\n",
       "  height: 1px;\n",
       "  margin: -1px;\n",
       "  overflow: hidden;\n",
       "  padding: 0;\n",
       "  position: absolute;\n",
       "  width: 1px;\n",
       "}\n",
       "\n",
       "#sk-container-id-10 div.sk-dashed-wrapped {\n",
       "  border: 1px dashed var(--sklearn-color-line);\n",
       "  margin: 0 0.4em 0.5em 0.4em;\n",
       "  box-sizing: border-box;\n",
       "  padding-bottom: 0.4em;\n",
       "  background-color: var(--sklearn-color-background);\n",
       "}\n",
       "\n",
       "#sk-container-id-10 div.sk-container {\n",
       "  /* jupyter's `normalize.less` sets `[hidden] { display: none; }`\n",
       "     but bootstrap.min.css set `[hidden] { display: none !important; }`\n",
       "     so we also need the `!important` here to be able to override the\n",
       "     default hidden behavior on the sphinx rendered scikit-learn.org.\n",
       "     See: https://github.com/scikit-learn/scikit-learn/issues/21755 */\n",
       "  display: inline-block !important;\n",
       "  position: relative;\n",
       "}\n",
       "\n",
       "#sk-container-id-10 div.sk-text-repr-fallback {\n",
       "  display: none;\n",
       "}\n",
       "\n",
       "div.sk-parallel-item,\n",
       "div.sk-serial,\n",
       "div.sk-item {\n",
       "  /* draw centered vertical line to link estimators */\n",
       "  background-image: linear-gradient(var(--sklearn-color-text-on-default-background), var(--sklearn-color-text-on-default-background));\n",
       "  background-size: 2px 100%;\n",
       "  background-repeat: no-repeat;\n",
       "  background-position: center center;\n",
       "}\n",
       "\n",
       "/* Parallel-specific style estimator block */\n",
       "\n",
       "#sk-container-id-10 div.sk-parallel-item::after {\n",
       "  content: \"\";\n",
       "  width: 100%;\n",
       "  border-bottom: 2px solid var(--sklearn-color-text-on-default-background);\n",
       "  flex-grow: 1;\n",
       "}\n",
       "\n",
       "#sk-container-id-10 div.sk-parallel {\n",
       "  display: flex;\n",
       "  align-items: stretch;\n",
       "  justify-content: center;\n",
       "  background-color: var(--sklearn-color-background);\n",
       "  position: relative;\n",
       "}\n",
       "\n",
       "#sk-container-id-10 div.sk-parallel-item {\n",
       "  display: flex;\n",
       "  flex-direction: column;\n",
       "}\n",
       "\n",
       "#sk-container-id-10 div.sk-parallel-item:first-child::after {\n",
       "  align-self: flex-end;\n",
       "  width: 50%;\n",
       "}\n",
       "\n",
       "#sk-container-id-10 div.sk-parallel-item:last-child::after {\n",
       "  align-self: flex-start;\n",
       "  width: 50%;\n",
       "}\n",
       "\n",
       "#sk-container-id-10 div.sk-parallel-item:only-child::after {\n",
       "  width: 0;\n",
       "}\n",
       "\n",
       "/* Serial-specific style estimator block */\n",
       "\n",
       "#sk-container-id-10 div.sk-serial {\n",
       "  display: flex;\n",
       "  flex-direction: column;\n",
       "  align-items: center;\n",
       "  background-color: var(--sklearn-color-background);\n",
       "  padding-right: 1em;\n",
       "  padding-left: 1em;\n",
       "}\n",
       "\n",
       "\n",
       "/* Toggleable style: style used for estimator/Pipeline/ColumnTransformer box that is\n",
       "clickable and can be expanded/collapsed.\n",
       "- Pipeline and ColumnTransformer use this feature and define the default style\n",
       "- Estimators will overwrite some part of the style using the `sk-estimator` class\n",
       "*/\n",
       "\n",
       "/* Pipeline and ColumnTransformer style (default) */\n",
       "\n",
       "#sk-container-id-10 div.sk-toggleable {\n",
       "  /* Default theme specific background. It is overwritten whether we have a\n",
       "  specific estimator or a Pipeline/ColumnTransformer */\n",
       "  background-color: var(--sklearn-color-background);\n",
       "}\n",
       "\n",
       "/* Toggleable label */\n",
       "#sk-container-id-10 label.sk-toggleable__label {\n",
       "  cursor: pointer;\n",
       "  display: flex;\n",
       "  width: 100%;\n",
       "  margin-bottom: 0;\n",
       "  padding: 0.5em;\n",
       "  box-sizing: border-box;\n",
       "  text-align: center;\n",
       "  align-items: start;\n",
       "  justify-content: space-between;\n",
       "  gap: 0.5em;\n",
       "}\n",
       "\n",
       "#sk-container-id-10 label.sk-toggleable__label .caption {\n",
       "  font-size: 0.6rem;\n",
       "  font-weight: lighter;\n",
       "  color: var(--sklearn-color-text-muted);\n",
       "}\n",
       "\n",
       "#sk-container-id-10 label.sk-toggleable__label-arrow:before {\n",
       "  /* Arrow on the left of the label */\n",
       "  content: \"▸\";\n",
       "  float: left;\n",
       "  margin-right: 0.25em;\n",
       "  color: var(--sklearn-color-icon);\n",
       "}\n",
       "\n",
       "#sk-container-id-10 label.sk-toggleable__label-arrow:hover:before {\n",
       "  color: var(--sklearn-color-text);\n",
       "}\n",
       "\n",
       "/* Toggleable content - dropdown */\n",
       "\n",
       "#sk-container-id-10 div.sk-toggleable__content {\n",
       "  max-height: 0;\n",
       "  max-width: 0;\n",
       "  overflow: hidden;\n",
       "  text-align: left;\n",
       "  /* unfitted */\n",
       "  background-color: var(--sklearn-color-unfitted-level-0);\n",
       "}\n",
       "\n",
       "#sk-container-id-10 div.sk-toggleable__content.fitted {\n",
       "  /* fitted */\n",
       "  background-color: var(--sklearn-color-fitted-level-0);\n",
       "}\n",
       "\n",
       "#sk-container-id-10 div.sk-toggleable__content pre {\n",
       "  margin: 0.2em;\n",
       "  border-radius: 0.25em;\n",
       "  color: var(--sklearn-color-text);\n",
       "  /* unfitted */\n",
       "  background-color: var(--sklearn-color-unfitted-level-0);\n",
       "}\n",
       "\n",
       "#sk-container-id-10 div.sk-toggleable__content.fitted pre {\n",
       "  /* unfitted */\n",
       "  background-color: var(--sklearn-color-fitted-level-0);\n",
       "}\n",
       "\n",
       "#sk-container-id-10 input.sk-toggleable__control:checked~div.sk-toggleable__content {\n",
       "  /* Expand drop-down */\n",
       "  max-height: 200px;\n",
       "  max-width: 100%;\n",
       "  overflow: auto;\n",
       "}\n",
       "\n",
       "#sk-container-id-10 input.sk-toggleable__control:checked~label.sk-toggleable__label-arrow:before {\n",
       "  content: \"▾\";\n",
       "}\n",
       "\n",
       "/* Pipeline/ColumnTransformer-specific style */\n",
       "\n",
       "#sk-container-id-10 div.sk-label input.sk-toggleable__control:checked~label.sk-toggleable__label {\n",
       "  color: var(--sklearn-color-text);\n",
       "  background-color: var(--sklearn-color-unfitted-level-2);\n",
       "}\n",
       "\n",
       "#sk-container-id-10 div.sk-label.fitted input.sk-toggleable__control:checked~label.sk-toggleable__label {\n",
       "  background-color: var(--sklearn-color-fitted-level-2);\n",
       "}\n",
       "\n",
       "/* Estimator-specific style */\n",
       "\n",
       "/* Colorize estimator box */\n",
       "#sk-container-id-10 div.sk-estimator input.sk-toggleable__control:checked~label.sk-toggleable__label {\n",
       "  /* unfitted */\n",
       "  background-color: var(--sklearn-color-unfitted-level-2);\n",
       "}\n",
       "\n",
       "#sk-container-id-10 div.sk-estimator.fitted input.sk-toggleable__control:checked~label.sk-toggleable__label {\n",
       "  /* fitted */\n",
       "  background-color: var(--sklearn-color-fitted-level-2);\n",
       "}\n",
       "\n",
       "#sk-container-id-10 div.sk-label label.sk-toggleable__label,\n",
       "#sk-container-id-10 div.sk-label label {\n",
       "  /* The background is the default theme color */\n",
       "  color: var(--sklearn-color-text-on-default-background);\n",
       "}\n",
       "\n",
       "/* On hover, darken the color of the background */\n",
       "#sk-container-id-10 div.sk-label:hover label.sk-toggleable__label {\n",
       "  color: var(--sklearn-color-text);\n",
       "  background-color: var(--sklearn-color-unfitted-level-2);\n",
       "}\n",
       "\n",
       "/* Label box, darken color on hover, fitted */\n",
       "#sk-container-id-10 div.sk-label.fitted:hover label.sk-toggleable__label.fitted {\n",
       "  color: var(--sklearn-color-text);\n",
       "  background-color: var(--sklearn-color-fitted-level-2);\n",
       "}\n",
       "\n",
       "/* Estimator label */\n",
       "\n",
       "#sk-container-id-10 div.sk-label label {\n",
       "  font-family: monospace;\n",
       "  font-weight: bold;\n",
       "  display: inline-block;\n",
       "  line-height: 1.2em;\n",
       "}\n",
       "\n",
       "#sk-container-id-10 div.sk-label-container {\n",
       "  text-align: center;\n",
       "}\n",
       "\n",
       "/* Estimator-specific */\n",
       "#sk-container-id-10 div.sk-estimator {\n",
       "  font-family: monospace;\n",
       "  border: 1px dotted var(--sklearn-color-border-box);\n",
       "  border-radius: 0.25em;\n",
       "  box-sizing: border-box;\n",
       "  margin-bottom: 0.5em;\n",
       "  /* unfitted */\n",
       "  background-color: var(--sklearn-color-unfitted-level-0);\n",
       "}\n",
       "\n",
       "#sk-container-id-10 div.sk-estimator.fitted {\n",
       "  /* fitted */\n",
       "  background-color: var(--sklearn-color-fitted-level-0);\n",
       "}\n",
       "\n",
       "/* on hover */\n",
       "#sk-container-id-10 div.sk-estimator:hover {\n",
       "  /* unfitted */\n",
       "  background-color: var(--sklearn-color-unfitted-level-2);\n",
       "}\n",
       "\n",
       "#sk-container-id-10 div.sk-estimator.fitted:hover {\n",
       "  /* fitted */\n",
       "  background-color: var(--sklearn-color-fitted-level-2);\n",
       "}\n",
       "\n",
       "/* Specification for estimator info (e.g. \"i\" and \"?\") */\n",
       "\n",
       "/* Common style for \"i\" and \"?\" */\n",
       "\n",
       ".sk-estimator-doc-link,\n",
       "a:link.sk-estimator-doc-link,\n",
       "a:visited.sk-estimator-doc-link {\n",
       "  float: right;\n",
       "  font-size: smaller;\n",
       "  line-height: 1em;\n",
       "  font-family: monospace;\n",
       "  background-color: var(--sklearn-color-background);\n",
       "  border-radius: 1em;\n",
       "  height: 1em;\n",
       "  width: 1em;\n",
       "  text-decoration: none !important;\n",
       "  margin-left: 0.5em;\n",
       "  text-align: center;\n",
       "  /* unfitted */\n",
       "  border: var(--sklearn-color-unfitted-level-1) 1pt solid;\n",
       "  color: var(--sklearn-color-unfitted-level-1);\n",
       "}\n",
       "\n",
       ".sk-estimator-doc-link.fitted,\n",
       "a:link.sk-estimator-doc-link.fitted,\n",
       "a:visited.sk-estimator-doc-link.fitted {\n",
       "  /* fitted */\n",
       "  border: var(--sklearn-color-fitted-level-1) 1pt solid;\n",
       "  color: var(--sklearn-color-fitted-level-1);\n",
       "}\n",
       "\n",
       "/* On hover */\n",
       "div.sk-estimator:hover .sk-estimator-doc-link:hover,\n",
       ".sk-estimator-doc-link:hover,\n",
       "div.sk-label-container:hover .sk-estimator-doc-link:hover,\n",
       ".sk-estimator-doc-link:hover {\n",
       "  /* unfitted */\n",
       "  background-color: var(--sklearn-color-unfitted-level-3);\n",
       "  color: var(--sklearn-color-background);\n",
       "  text-decoration: none;\n",
       "}\n",
       "\n",
       "div.sk-estimator.fitted:hover .sk-estimator-doc-link.fitted:hover,\n",
       ".sk-estimator-doc-link.fitted:hover,\n",
       "div.sk-label-container:hover .sk-estimator-doc-link.fitted:hover,\n",
       ".sk-estimator-doc-link.fitted:hover {\n",
       "  /* fitted */\n",
       "  background-color: var(--sklearn-color-fitted-level-3);\n",
       "  color: var(--sklearn-color-background);\n",
       "  text-decoration: none;\n",
       "}\n",
       "\n",
       "/* Span, style for the box shown on hovering the info icon */\n",
       ".sk-estimator-doc-link span {\n",
       "  display: none;\n",
       "  z-index: 9999;\n",
       "  position: relative;\n",
       "  font-weight: normal;\n",
       "  right: .2ex;\n",
       "  padding: .5ex;\n",
       "  margin: .5ex;\n",
       "  width: min-content;\n",
       "  min-width: 20ex;\n",
       "  max-width: 50ex;\n",
       "  color: var(--sklearn-color-text);\n",
       "  box-shadow: 2pt 2pt 4pt #999;\n",
       "  /* unfitted */\n",
       "  background: var(--sklearn-color-unfitted-level-0);\n",
       "  border: .5pt solid var(--sklearn-color-unfitted-level-3);\n",
       "}\n",
       "\n",
       ".sk-estimator-doc-link.fitted span {\n",
       "  /* fitted */\n",
       "  background: var(--sklearn-color-fitted-level-0);\n",
       "  border: var(--sklearn-color-fitted-level-3);\n",
       "}\n",
       "\n",
       ".sk-estimator-doc-link:hover span {\n",
       "  display: block;\n",
       "}\n",
       "\n",
       "/* \"?\"-specific style due to the `<a>` HTML tag */\n",
       "\n",
       "#sk-container-id-10 a.estimator_doc_link {\n",
       "  float: right;\n",
       "  font-size: 1rem;\n",
       "  line-height: 1em;\n",
       "  font-family: monospace;\n",
       "  background-color: var(--sklearn-color-background);\n",
       "  border-radius: 1rem;\n",
       "  height: 1rem;\n",
       "  width: 1rem;\n",
       "  text-decoration: none;\n",
       "  /* unfitted */\n",
       "  color: var(--sklearn-color-unfitted-level-1);\n",
       "  border: var(--sklearn-color-unfitted-level-1) 1pt solid;\n",
       "}\n",
       "\n",
       "#sk-container-id-10 a.estimator_doc_link.fitted {\n",
       "  /* fitted */\n",
       "  border: var(--sklearn-color-fitted-level-1) 1pt solid;\n",
       "  color: var(--sklearn-color-fitted-level-1);\n",
       "}\n",
       "\n",
       "/* On hover */\n",
       "#sk-container-id-10 a.estimator_doc_link:hover {\n",
       "  /* unfitted */\n",
       "  background-color: var(--sklearn-color-unfitted-level-3);\n",
       "  color: var(--sklearn-color-background);\n",
       "  text-decoration: none;\n",
       "}\n",
       "\n",
       "#sk-container-id-10 a.estimator_doc_link.fitted:hover {\n",
       "  /* fitted */\n",
       "  background-color: var(--sklearn-color-fitted-level-3);\n",
       "}\n",
       "</style><div id=\"sk-container-id-10\" class=\"sk-top-container\"><div class=\"sk-text-repr-fallback\"><pre>LinearRegression()</pre><b>In a Jupyter environment, please rerun this cell to show the HTML representation or trust the notebook. <br />On GitHub, the HTML representation is unable to render, please try loading this page with nbviewer.org.</b></div><div class=\"sk-container\" hidden><div class=\"sk-item\"><div class=\"sk-estimator fitted sk-toggleable\"><input class=\"sk-toggleable__control sk-hidden--visually\" id=\"sk-estimator-id-10\" type=\"checkbox\" checked><label for=\"sk-estimator-id-10\" class=\"sk-toggleable__label fitted sk-toggleable__label-arrow\"><div><div>LinearRegression</div></div><div><a class=\"sk-estimator-doc-link fitted\" rel=\"noreferrer\" target=\"_blank\" href=\"https://scikit-learn.org/1.6/modules/generated/sklearn.linear_model.LinearRegression.html\">?<span>Documentation for LinearRegression</span></a><span class=\"sk-estimator-doc-link fitted\">i<span>Fitted</span></span></div></label><div class=\"sk-toggleable__content fitted\"><pre>LinearRegression()</pre></div> </div></div></div></div>"
      ],
      "text/plain": [
       "LinearRegression()"
      ]
     },
     "execution_count": 357,
     "metadata": {},
     "output_type": "execute_result"
    }
   ],
   "source": [
    "poly3 = PolynomialFeatures(3)\n",
    "\n",
    "X_poly = poly3.fit_transform(X)\n",
    "\n",
    "X_poly_train, X_poly_test, y_poly_train, y_poly_test = train_test_split(X_poly,Y,test_size=0.2,random_state=23)\n",
    "poly3.fit(X_poly_train, y_poly_train)\n",
    "lin_reg2 = LinearRegression()\n",
    "lin_reg2.fit(X_poly_train, y_poly_train)"
   ]
  },
  {
   "cell_type": "code",
   "execution_count": 358,
   "metadata": {},
   "outputs": [],
   "source": [
    "poly3_predictions = lin_reg2.predict(X_poly_test)"
   ]
  },
  {
   "cell_type": "code",
   "execution_count": 359,
   "metadata": {},
   "outputs": [
    {
     "name": "stdout",
     "output_type": "stream",
     "text": [
      "Feature----Coefficient\n",
      "Age: 7.463521661763787e-06\n",
      "Distance: -141.48467670660446\n",
      "Traffic: 0.6574301349814451\n",
      "OHE_Male: -480.59529044625634\n",
      "OHE_Other: 584.2647493454297\n",
      "OHE_Arts: 1.2866275158455742\n",
      "OHE_Biology: -0.8755253906251792\n",
      "OHE_Business Administration: -5.781026869158446\n",
      "OHE_Civil Engineering: -753.3781412739742\n",
      "OHE_Computer Science: 1.8156944863223583\n",
      "OHE_EEE: -586.1198290195434\n",
      "OHE_Engineering: -777.0503970282934\n",
      "OHE_English: 2139.1031231229845\n",
      "OHE_Law: 0.04160582087118031\n",
      "OHE_Mathematics: -0.021622907123240862\n",
      "OHE_Bus: 0.7122471518779661\n",
      "OHE_Car: -586.3820679442026\n",
      "OHE_Rickshaw: -603.6390896063274\n",
      "OHE_Walk: -104.59172616891271\n",
      "Evaluation Metrics-\n",
      "Mean Squared Error (MSE): 1535519.30\n",
      "Root Mean Squared Error (RMSE): 1239.16\n",
      "Mean Absolute Error (MAE): 264.59\n",
      "R_2 Score: -470.40\n"
     ]
    }
   ],
   "source": [
    "showParameters(lin_reg2)\n",
    "showMetrics(y_poly_test, poly3_predictions)"
   ]
  },
  {
   "cell_type": "markdown",
   "metadata": {},
   "source": [
    "still worse than linear regression. Higher degree polynomial regression result in further worse performance."
   ]
  },
  {
   "cell_type": "markdown",
   "metadata": {},
   "source": [
    "\n",
    "#### Summary"
   ]
  },
  {
   "cell_type": "markdown",
   "metadata": {},
   "source": [
    "The regrssion analysis is done on the commute time dataset using 4 different regression models as follows:\n",
    "* Linear regression\n",
    "* Lasso regression\n",
    "* Ridge regression\n",
    "* Polynomial regression\n",
    "\n",
    "At first I one-hot encoded the categorical features and label encoded the 'traffic' feature since there is ranking or hierarchy in this category (i.e. High, Medium, Low).\n",
    "\n",
    "Then I did feature-lable split and train-test split maintaining 80-20 ratio.\n",
    "\n",
    "* Based on the results of the regression analyses, we see that the *ridge regression model* performs the best with moderate regularization strength (i.e. alpha = 0.5). \n",
    "* Although the 3 regression models performed similarly, the lasso and ridge regularization allowed the model to eliminate irrelevant features, allowing the model to fit the training data well but not too well, so that it performs better on the test set. \n",
    "* Hence, the RMSE and MSE are lower and r^2 scores are better. For polynomial regression, the relationship between the input and output is not polynomial, so introducing higher-order terms degrade performance. \n",
    "* Most of the data has a random pattern, polynomial features don't really help capture the pattern better. The model captures the noise of the training data instead of finding a pattern - it overfits. \n",
    "* Infact, linear regression performs better in this case."
   ]
  }
 ],
 "metadata": {
  "kernelspec": {
   "display_name": "env",
   "language": "python",
   "name": "python3"
  },
  "language_info": {
   "codemirror_mode": {
    "name": "ipython",
    "version": 3
   },
   "file_extension": ".py",
   "mimetype": "text/x-python",
   "name": "python",
   "nbconvert_exporter": "python",
   "pygments_lexer": "ipython3",
   "version": "3.12.6"
  }
 },
 "nbformat": 4,
 "nbformat_minor": 2
}
